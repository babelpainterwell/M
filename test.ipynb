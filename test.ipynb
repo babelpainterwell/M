{
 "cells": [
  {
   "cell_type": "code",
   "execution_count": 17,
   "metadata": {},
   "outputs": [],
   "source": [
    "import getpass\n",
    "import os\n",
    "\n",
    "\n",
    "def _set_env(var: str):\n",
    "    if not os.environ.get(var):\n",
    "        os.environ[var] = getpass.getpass(f\"{var}: \")\n",
    "\n",
    "\n",
    "_set_env(\"ANTHROPIC_API_KEY\")"
   ]
  },
  {
   "cell_type": "code",
   "execution_count": 18,
   "metadata": {},
   "outputs": [],
   "source": [
    "from typing import Annotated, Union\n",
    "\n",
    "from langchain_anthropic import ChatAnthropic\n",
    "from langchain_community.tools.tavily_search import TavilySearchResults\n",
    "from langchain_core.messages import BaseMessage, SystemMessage, HumanMessage, AnyMessage\n",
    "from typing_extensions import TypedDict\n",
    "\n",
    "from langgraph.graph import StateGraph\n",
    "from langgraph.graph.message import add_messages\n",
    "from langgraph.prebuilt import ToolNode, tools_condition\n",
    "\n",
    "\n",
    "class State(TypedDict):\n",
    "    messages: Annotated[list, add_messages]\n",
    "\n",
    "\n",
    "graph_builder = StateGraph(State)\n",
    "\n",
    "\n",
    "tool = TavilySearchResults(max_results=2)\n",
    "tools = [tool]\n",
    "llm = ChatAnthropic(model=\"claude-3-haiku-20240307\")\n",
    "llm_with_tools = llm.bind_tools(tools)\n",
    "\n",
    "\n",
    "def chatbot(state: State):\n",
    "    return {\"messages\": [llm_with_tools.invoke(state[\"messages\"])]}\n",
    "\n",
    "\n",
    "graph_builder.add_node(\"chatbot\", chatbot)\n",
    "\n",
    "tool_node = ToolNode(tools=[tool])\n",
    "graph_builder.add_node(\"tools\", tool_node)\n",
    "\n",
    "graph_builder.add_conditional_edges(\n",
    "    \"chatbot\",\n",
    "    tools_condition,\n",
    ")\n",
    "# Any time a tool is called, we return to the chatbot to decide the next step\n",
    "graph_builder.add_edge(\"tools\", \"chatbot\")\n",
    "graph_builder.set_entry_point(\"chatbot\")"
   ]
  },
  {
   "cell_type": "code",
   "execution_count": 37,
   "metadata": {},
   "outputs": [],
   "source": [
    "from langgraph.checkpoint.sqlite import SqliteSaver\n",
    "\n",
    "memory = SqliteSaver.from_conn_string(\":memory:\")"
   ]
  },
  {
   "cell_type": "code",
   "execution_count": 38,
   "metadata": {},
   "outputs": [],
   "source": [
    "graph = graph_builder.compile(checkpointer=memory, interrupt_before=[\"tools\"])"
   ]
  },
  {
   "cell_type": "code",
   "execution_count": 39,
   "metadata": {},
   "outputs": [],
   "source": [
    "config = {\"configurable\": {\"thread_id\": \"1\"}}"
   ]
  },
  {
   "cell_type": "code",
   "execution_count": 40,
   "metadata": {},
   "outputs": [
    {
     "name": "stdout",
     "output_type": "stream",
     "text": [
      "================================\u001b[1m Human Message \u001b[0m=================================\n",
      "\n",
      "What is LangGraph?\n",
      "==================================\u001b[1m Ai Message \u001b[0m==================================\n",
      "\n",
      "[{'text': 'Let me perform a search to find information about LangGraph:', 'type': 'text'}, {'id': 'toolu_01Dzfqn9hg7rhXC598bsM7DL', 'input': {'query': 'LangGraph'}, 'name': 'tavily_search_results_json', 'type': 'tool_use'}]\n",
      "Tool Calls:\n",
      "  tavily_search_results_json (toolu_01Dzfqn9hg7rhXC598bsM7DL)\n",
      " Call ID: toolu_01Dzfqn9hg7rhXC598bsM7DL\n",
      "  Args:\n",
      "    query: LangGraph\n"
     ]
    }
   ],
   "source": [
    "user_input = \"What is LangGraph?\"\n",
    "\n",
    "# The config is the **second positional argument** to stream() or invoke()!\n",
    "events = graph.stream(\n",
    "    {\"messages\": [(\"user\", user_input)]}, config, stream_mode=\"values\"\n",
    ")\n",
    "for event in events:\n",
    "    event[\"messages\"][-1].pretty_print()"
   ]
  },
  {
   "cell_type": "code",
   "execution_count": 41,
   "metadata": {},
   "outputs": [
    {
     "data": {
      "text/plain": [
       "StateSnapshot(values={'messages': [HumanMessage(content='What is LangGraph?', id='08b0a807-26ef-4a18-9921-a251a0e02698'), AIMessage(content=[{'text': 'Let me perform a search to find information about LangGraph:', 'type': 'text'}, {'id': 'toolu_01Dzfqn9hg7rhXC598bsM7DL', 'input': {'query': 'LangGraph'}, 'name': 'tavily_search_results_json', 'type': 'tool_use'}], response_metadata={'id': 'msg_016wn5TFQMLbg3vVarHGTEwC', 'model': 'claude-3-haiku-20240307', 'stop_reason': 'tool_use', 'stop_sequence': None, 'usage': {'input_tokens': 373, 'output_tokens': 74}}, id='run-3e5d2b4a-850d-4826-a012-cd7d807fdb2c-0', tool_calls=[{'name': 'tavily_search_results_json', 'args': {'query': 'LangGraph'}, 'id': 'toolu_01Dzfqn9hg7rhXC598bsM7DL'}], usage_metadata={'input_tokens': 373, 'output_tokens': 74, 'total_tokens': 447})]}, next=('tools',), config={'configurable': {'thread_id': '1', 'thread_ts': '1ef26971-e2ec-6a30-8001-305fe3b2ea04'}}, metadata={'source': 'loop', 'step': 1, 'writes': {'chatbot': {'messages': [AIMessage(content=[{'text': 'Let me perform a search to find information about LangGraph:', 'type': 'text'}, {'id': 'toolu_01Dzfqn9hg7rhXC598bsM7DL', 'input': {'query': 'LangGraph'}, 'name': 'tavily_search_results_json', 'type': 'tool_use'}], response_metadata={'id': 'msg_016wn5TFQMLbg3vVarHGTEwC', 'model': 'claude-3-haiku-20240307', 'stop_reason': 'tool_use', 'stop_sequence': None, 'usage': {'input_tokens': 373, 'output_tokens': 74}}, id='run-3e5d2b4a-850d-4826-a012-cd7d807fdb2c-0', tool_calls=[{'name': 'tavily_search_results_json', 'args': {'query': 'LangGraph'}, 'id': 'toolu_01Dzfqn9hg7rhXC598bsM7DL'}], usage_metadata={'input_tokens': 373, 'output_tokens': 74, 'total_tokens': 447})]}}}, created_at='2024-06-09T19:33:16.007468+00:00', parent_config={'configurable': {'thread_id': '1', 'thread_ts': '1ef26971-db01-67b2-8000-ede754ed8665'}})"
      ]
     },
     "execution_count": 41,
     "metadata": {},
     "output_type": "execute_result"
    }
   ],
   "source": [
    "snapshot = graph.get_state(config)\n",
    "snapshot"
   ]
  },
  {
   "cell_type": "code",
   "execution_count": 42,
   "metadata": {},
   "outputs": [
    {
     "data": {
      "text/plain": [
       "('tools',)"
      ]
     },
     "execution_count": 42,
     "metadata": {},
     "output_type": "execute_result"
    }
   ],
   "source": [
    "snapshot.next"
   ]
  },
  {
   "cell_type": "code",
   "execution_count": 43,
   "metadata": {},
   "outputs": [
    {
     "name": "stdout",
     "output_type": "stream",
     "text": [
      "==================================\u001b[1m Ai Message \u001b[0m==================================\n",
      "\n",
      "[{'text': 'Let me perform a search to find information about LangGraph:', 'type': 'text'}, {'id': 'toolu_01Dzfqn9hg7rhXC598bsM7DL', 'input': {'query': 'LangGraph'}, 'name': 'tavily_search_results_json', 'type': 'tool_use'}]\n",
      "Tool Calls:\n",
      "  tavily_search_results_json (toolu_01Dzfqn9hg7rhXC598bsM7DL)\n",
      " Call ID: toolu_01Dzfqn9hg7rhXC598bsM7DL\n",
      "  Args:\n",
      "    query: LangGraph\n"
     ]
    }
   ],
   "source": [
    "existing_ai_message = snapshot.values[\"messages\"][-1]\n",
    "existing_ai_message.pretty_print()"
   ]
  },
  {
   "cell_type": "code",
   "execution_count": 48,
   "metadata": {},
   "outputs": [
    {
     "name": "stdout",
     "output_type": "stream",
     "text": [
      "The ID of existing_ai_message is:  run-3e5d2b4a-850d-4826-a012-cd7d807fdb2c-0\n",
      "The ID of new_ai_message (BEFORE REPLACEMENT) is:  run-3e5d2b4a-850d-4826-a012-cd7d807fdb2c-0\n",
      "The ID of new_ai_message (AFTER REPLACEMENT) is:  run-3e5d2b4a-850d-4826-a012-cd7d807fdb2c-0\n"
     ]
    }
   ],
   "source": [
    "# format a new ai message to replace the search query \n",
    "print(\"The ID of existing_ai_message is: \", existing_ai_message.id)\n",
    "new_ai_message = existing_ai_message.copy()\n",
    "print(\"The ID of new_ai_message (BEFORE REPLACEMENT) is: \", new_ai_message.id)\n",
    "new_ai_message.tool_calls[0]['args']['query'] = \"What's the weather\"\n",
    "\n",
    "graph.update_state(config, {\"messages\": [new_ai_message]})\n",
    "print(\"The ID of new_ai_message (AFTER REPLACEMENT) is: \", new_ai_message.id)"
   ]
  },
  {
   "cell_type": "code",
   "execution_count": 49,
   "metadata": {},
   "outputs": [
    {
     "data": {
      "text/plain": [
       "('tools',)"
      ]
     },
     "execution_count": 49,
     "metadata": {},
     "output_type": "execute_result"
    }
   ],
   "source": [
    "snapshot = graph.get_state(config)\n",
    "snapshot.next"
   ]
  },
  {
   "cell_type": "code",
   "execution_count": 50,
   "metadata": {},
   "outputs": [
    {
     "name": "stdout",
     "output_type": "stream",
     "text": [
      "=================================\u001b[1m Tool Message \u001b[0m=================================\n",
      "Name: tavily_search_results_json\n",
      "\n",
      "[{\"url\": \"https://www.weatherapi.com/\", \"content\": \"{'location': {'name': 'Current', 'region': 'Harbour Island', 'country': 'Bahamas', 'lat': 25.43, 'lon': -76.78, 'tz_id': 'America/Nassau', 'localtime_epoch': 1717961974, 'localtime': '2024-06-09 15:39'}, 'current': {'last_updated_epoch': 1717961400, 'last_updated': '2024-06-09 15:30', 'temp_c': 28.0, 'temp_f': 82.4, 'is_day': 1, 'condition': {'text': 'Patchy rain nearby', 'icon': '//cdn.weatherapi.com/weather/64x64/day/176.png', 'code': 1063}, 'wind_mph': 11.4, 'wind_kph': 18.4, 'wind_degree': 199, 'wind_dir': 'SSW', 'pressure_mb': 1013.0, 'pressure_in': 29.92, 'precip_mm': 0.51, 'precip_in': 0.02, 'humidity': 73, 'cloud': 88, 'feelslike_c': 31.1, 'feelslike_f': 88.0, 'windchill_c': 28.0, 'windchill_f': 82.4, 'heatindex_c': 31.1, 'heatindex_f': 88.0, 'dewpoint_c': 22.6, 'dewpoint_f': 72.7, 'vis_km': 9.0, 'vis_miles': 5.0, 'uv': 6.0, 'gust_mph': 15.7, 'gust_kph': 25.2}}\"}, {\"url\": \"https://origin-east-01-drupal-climate.woc.noaa.gov/news-features/understanding-climate/us-climate-outlook-june-2024\", \"content\": \"The temperature outlook for June 2024, showing where the average temperature is favored to be much warmer than average (orange and red), near average (gray), or much cooler than average (blues). ... The updated outlooks were produced considering the Week 1 forecast from the Weather Prediction Center (WPC), and CPC's own Week 2 and Week 3-4 ...\"}]\n",
      "==================================\u001b[1m Ai Message \u001b[0m==================================\n",
      "\n",
      "[{'text': 'Oops, it looks like the search results are not relevant to the question about LangGraph. Let me try a more targeted search:', 'type': 'text'}, {'id': 'toolu_01QQTvpTmdqEho2w8E24rPu2', 'input': {'query': 'LangGraph'}, 'name': 'tavily_search_results_json', 'type': 'tool_use'}]\n",
      "Tool Calls:\n",
      "  tavily_search_results_json (toolu_01QQTvpTmdqEho2w8E24rPu2)\n",
      " Call ID: toolu_01QQTvpTmdqEho2w8E24rPu2\n",
      "  Args:\n",
      "    query: LangGraph\n"
     ]
    }
   ],
   "source": [
    "events = graph.stream(None, config, stream_mode=\"values\")\n",
    "for event in events:\n",
    "    if \"messages\" in event:\n",
    "        event[\"messages\"][-1].pretty_print()"
   ]
  },
  {
   "cell_type": "code",
   "execution_count": null,
   "metadata": {},
   "outputs": [],
   "source": []
  },
  {
   "cell_type": "code",
   "execution_count": null,
   "metadata": {},
   "outputs": [],
   "source": []
  },
  {
   "cell_type": "code",
   "execution_count": 33,
   "metadata": {},
   "outputs": [
    {
     "name": "stdout",
     "output_type": "stream",
     "text": [
      "==================================\u001b[1m Ai Message \u001b[0m==================================\n",
      "\n",
      "LangGraph is a library for building stateful, multi-actor applications with LLMs.\n",
      "\n",
      "\n",
      "Last 2 messages;\n",
      "[ToolMessage(content='LangGraph is a library for building stateful, multi-actor applications with LLMs.', id='cbd2073f-c2ae-4032-9ff7-9f2ad05d97cd', tool_call_id='toolu_01S4YSyq33nUcGJ8YoBrTmGP'), AIMessage(content='LangGraph is a library for building stateful, multi-actor applications with LLMs.', id='2d30cf20-058b-4a25-8dd0-26fb9db78bc9')]\n"
     ]
    }
   ],
   "source": [
    "from langchain_core.messages import AIMessage, ToolMessage\n",
    "\n",
    "answer = (\n",
    "    \"LangGraph is a library for building stateful, multi-actor applications with LLMs.\"\n",
    ")\n",
    "new_messages = [\n",
    "    # The LLM API expects some ToolMessage to match its tool call. We'll satisfy that here.\n",
    "    ToolMessage(content=answer, tool_call_id=existing_ai_message.tool_calls[0][\"id\"]),\n",
    "    # And then directly \"put words in the LLM's mouth\" by populating its response.\n",
    "    AIMessage(content=answer),\n",
    "]\n",
    "\n",
    "new_messages[-1].pretty_print()\n",
    "\n",
    "\"\"\"\n",
    "The update_state function operates as if it were one of the nodes in your graph!\n",
    "By default, the update operation uses the node that was last executed, but you can manually specify it below.\n",
    "Basically, update_state adds messages. \n",
    "\"\"\"\n",
    "\n",
    "graph.update_state(\n",
    "    # Which state to update\n",
    "    config,\n",
    "    # The updated values to provide. The messages in our `State` are \"append-only\", meaning this will be appended\n",
    "    # to the existing state. We will review how to update existing messages in the next section!\n",
    "    {\"messages\": new_messages},\n",
    ")\n",
    "\n",
    "print(\"\\n\\nLast 2 messages;\")\n",
    "print(graph.get_state(config).values[\"messages\"][-2:])"
   ]
  },
  {
   "cell_type": "code",
   "execution_count": 35,
   "metadata": {},
   "outputs": [
    {
     "data": {
      "text/plain": [
       "4"
      ]
     },
     "execution_count": 35,
     "metadata": {},
     "output_type": "execute_result"
    }
   ],
   "source": [
    "snapshot = graph.get_state(config)\n",
    "len(snapshot.values[\"messages\"])"
   ]
  },
  {
   "cell_type": "code",
   "execution_count": 16,
   "metadata": {},
   "outputs": [],
   "source": [
    "class UserExitError(Exception):\n",
    "    def __init__(self, message):\n",
    "        self.message = message\n",
    "\n",
    "\n",
    "class AgentState(TypedDict):\n",
    "    messages: Annotated[list[AnyMessage], add_messages] \n",
    "\n",
    "\n",
    "class AgentM:\n",
    "    def __init__(self, model, tools, system=\"\", tool_node=None):\n",
    "        self.system = system\n",
    "        self.model = model.bind_tools(tools)\n",
    "        self.tools = {t.name: t for t in tools}\n",
    "\n",
    "        # set up memory for multi-run interaction (in memory)\n",
    "        # every time we initialize the agent, we start with a clean memory\n",
    "        memory = SqliteSaver.from_conn_string(\":memory:\")\n",
    "\n",
    "        graph = StateGraph(AgentState) # BotState here is a schema for the state of the agent\n",
    "        graph.add_node(\"llm\", self.call_llm) # 'llm' here is just a node name \n",
    "        graph.add_node(\"tools\", tool_node) # 'tools' here is just a node name, could either be a function or a runnable\n",
    "        graph.add_edge(\"tools\", \"llm\") # any time a tool is called, we return to the LLM\n",
    "        graph.set_entry_point(\"llm\")\n",
    "        graph.add_conditional_edges(\n",
    "            \"llm\",\n",
    "            # self.tool_calls_requested, # even though in the loop, there is no place for the user to input\n",
    "            # {True: \"tools\", False: END}\n",
    "            tools_condition,\n",
    "        )\n",
    "        self.graph = graph.compile(checkpointer=memory)\n",
    "    \n",
    "    def call_llm(self, state: AgentState):\n",
    "        messages = state['messages']\n",
    "        if self.system:\n",
    "            messages = [SystemMessage(content=self.system)] + messages\n",
    "        response = self.model.invoke(messages) \n",
    "        return {\"messages\": [response]}\n",
    "    \n",
    "    def tool_calls_requested(self, state: AgentState):\n",
    "        last_message = state['messages'][-1]\n",
    "        return len(last_message.tool_calls) > 0\n",
    "    "
   ]
  },
  {
   "cell_type": "code",
   "execution_count": null,
   "metadata": {},
   "outputs": [],
   "source": []
  },
  {
   "cell_type": "markdown",
   "metadata": {},
   "source": [
    "### Implement Custom Tool\n"
   ]
  },
  {
   "cell_type": "code",
   "execution_count": 10,
   "metadata": {},
   "outputs": [],
   "source": [
    "from langchain.pydantic_v1 import BaseModel, Field\n",
    "from langchain.tools import BaseTool, StructuredTool, tool\n",
    "from typing import List, Dict, Any, Optional, Annotated, Union\n",
    "from langchain_core.messages import AnyMessage, AIMessage, ToolMessage\n",
    "from langgraph.graph.message import add_messages"
   ]
  },
  {
   "cell_type": "code",
   "execution_count": 11,
   "metadata": {},
   "outputs": [],
   "source": [
    "class AgentState:\n",
    "    messages: Annotated[list[AnyMessage], add_messages]"
   ]
  },
  {
   "cell_type": "code",
   "execution_count": 12,
   "metadata": {},
   "outputs": [
    {
     "ename": "ValueError",
     "evalue": "Value not declarable with JSON Schema, field: name='state' type=AgentState required=True",
     "output_type": "error",
     "traceback": [
      "\u001b[0;31m---------------------------------------------------------------------------\u001b[0m",
      "\u001b[0;31mValueError\u001b[0m                                Traceback (most recent call last)",
      "\u001b[1;32m/Users/wellzhang/Desktop/Mortal/test.ipynb Cell 22\u001b[0m line \u001b[0;36m2\n\u001b[1;32m      <a href='vscode-notebook-cell:/Users/wellzhang/Desktop/Mortal/test.ipynb#X13sZmlsZQ%3D%3D?line=0'>1</a>\u001b[0m \u001b[39m@tool\u001b[39;49m\n\u001b[0;32m----> <a href='vscode-notebook-cell:/Users/wellzhang/Desktop/Mortal/test.ipynb#X13sZmlsZQ%3D%3D?line=1'>2</a>\u001b[0m \u001b[39masync\u001b[39;49;00m \u001b[39mdef\u001b[39;49;00m \u001b[39mclick\u001b[39;49m(state: AgentState):\n\u001b[1;32m      <a href='vscode-notebook-cell:/Users/wellzhang/Desktop/Mortal/test.ipynb#X13sZmlsZQ%3D%3D?line=2'>3</a>\u001b[0m \u001b[39m    \u001b[39;49m\u001b[39m\"\"\"Click action in the browser - Click [Numerical_Label]\"\"\"\u001b[39;49;00m\n\u001b[1;32m      <a href='vscode-notebook-cell:/Users/wellzhang/Desktop/Mortal/test.ipynb#X13sZmlsZQ%3D%3D?line=3'>4</a>\u001b[0m     page \u001b[39m=\u001b[39;49m state[\u001b[39m\"\u001b[39;49m\u001b[39mpage\u001b[39;49m\u001b[39m\"\u001b[39;49m]\n",
      "File \u001b[0;32m~/Desktop/Mortal/mortal/lib/python3.9/site-packages/langchain_core/tools.py:960\u001b[0m, in \u001b[0;36mtool\u001b[0;34m(return_direct, args_schema, infer_schema, *args)\u001b[0m\n\u001b[1;32m    956\u001b[0m     \u001b[39mreturn\u001b[39;00m _make_with_name(args[\u001b[39m0\u001b[39m])\n\u001b[1;32m    957\u001b[0m \u001b[39melif\u001b[39;00m \u001b[39mlen\u001b[39m(args) \u001b[39m==\u001b[39m \u001b[39m1\u001b[39m \u001b[39mand\u001b[39;00m \u001b[39mcallable\u001b[39m(args[\u001b[39m0\u001b[39m]):\n\u001b[1;32m    958\u001b[0m     \u001b[39m# if the argument is a function, then we use the function name as the tool name\u001b[39;00m\n\u001b[1;32m    959\u001b[0m     \u001b[39m# Example usage: @tool\u001b[39;00m\n\u001b[0;32m--> 960\u001b[0m     \u001b[39mreturn\u001b[39;00m _make_with_name(args[\u001b[39m0\u001b[39;49m]\u001b[39m.\u001b[39;49m\u001b[39m__name__\u001b[39;49m)(args[\u001b[39m0\u001b[39;49m])\n\u001b[1;32m    961\u001b[0m \u001b[39melif\u001b[39;00m \u001b[39mlen\u001b[39m(args) \u001b[39m==\u001b[39m \u001b[39m0\u001b[39m:\n\u001b[1;32m    962\u001b[0m     \u001b[39m# if there are no arguments, then we use the function name as the tool name\u001b[39;00m\n\u001b[1;32m    963\u001b[0m     \u001b[39m# Example usage: @tool(return_direct=True)\u001b[39;00m\n\u001b[1;32m    964\u001b[0m     \u001b[39mdef\u001b[39;00m \u001b[39m_partial\u001b[39m(func: Callable[[\u001b[39mstr\u001b[39m], \u001b[39mstr\u001b[39m]) \u001b[39m-\u001b[39m\u001b[39m>\u001b[39m BaseTool:\n",
      "File \u001b[0;32m~/Desktop/Mortal/mortal/lib/python3.9/site-packages/langchain_core/tools.py:925\u001b[0m, in \u001b[0;36mtool.<locals>._make_with_name.<locals>._make_tool\u001b[0;34m(dec_func)\u001b[0m\n\u001b[1;32m    922\u001b[0m     description \u001b[39m=\u001b[39m \u001b[39mNone\u001b[39;00m\n\u001b[1;32m    924\u001b[0m \u001b[39mif\u001b[39;00m infer_schema \u001b[39mor\u001b[39;00m args_schema \u001b[39mis\u001b[39;00m \u001b[39mnot\u001b[39;00m \u001b[39mNone\u001b[39;00m:\n\u001b[0;32m--> 925\u001b[0m     \u001b[39mreturn\u001b[39;00m StructuredTool\u001b[39m.\u001b[39;49mfrom_function(\n\u001b[1;32m    926\u001b[0m         func,\n\u001b[1;32m    927\u001b[0m         coroutine,\n\u001b[1;32m    928\u001b[0m         name\u001b[39m=\u001b[39;49mtool_name,\n\u001b[1;32m    929\u001b[0m         description\u001b[39m=\u001b[39;49mdescription,\n\u001b[1;32m    930\u001b[0m         return_direct\u001b[39m=\u001b[39;49mreturn_direct,\n\u001b[1;32m    931\u001b[0m         args_schema\u001b[39m=\u001b[39;49mschema,\n\u001b[1;32m    932\u001b[0m         infer_schema\u001b[39m=\u001b[39;49minfer_schema,\n\u001b[1;32m    933\u001b[0m     )\n\u001b[1;32m    934\u001b[0m \u001b[39m# If someone doesn't want a schema applied, we must treat it as\u001b[39;00m\n\u001b[1;32m    935\u001b[0m \u001b[39m# a simple string->string function\u001b[39;00m\n\u001b[1;32m    936\u001b[0m \u001b[39mif\u001b[39;00m func\u001b[39m.\u001b[39m\u001b[39m__doc__\u001b[39m \u001b[39mis\u001b[39;00m \u001b[39mNone\u001b[39;00m:\n",
      "File \u001b[0;32m~/Desktop/Mortal/mortal/lib/python3.9/site-packages/langchain_core/tools.py:844\u001b[0m, in \u001b[0;36mStructuredTool.from_function\u001b[0;34m(cls, func, coroutine, name, description, return_direct, args_schema, infer_schema, **kwargs)\u001b[0m\n\u001b[1;32m    841\u001b[0m _args_schema \u001b[39m=\u001b[39m args_schema\n\u001b[1;32m    842\u001b[0m \u001b[39mif\u001b[39;00m _args_schema \u001b[39mis\u001b[39;00m \u001b[39mNone\u001b[39;00m \u001b[39mand\u001b[39;00m infer_schema:\n\u001b[1;32m    843\u001b[0m     \u001b[39m# schema name is appended within function\u001b[39;00m\n\u001b[0;32m--> 844\u001b[0m     _args_schema \u001b[39m=\u001b[39m create_schema_from_function(name, source_function)\n\u001b[1;32m    845\u001b[0m \u001b[39mreturn\u001b[39;00m \u001b[39mcls\u001b[39m(\n\u001b[1;32m    846\u001b[0m     name\u001b[39m=\u001b[39mname,\n\u001b[1;32m    847\u001b[0m     func\u001b[39m=\u001b[39mfunc,\n\u001b[0;32m   (...)\u001b[0m\n\u001b[1;32m    852\u001b[0m     \u001b[39m*\u001b[39m\u001b[39m*\u001b[39mkwargs,\n\u001b[1;32m    853\u001b[0m )\n",
      "File \u001b[0;32m~/Desktop/Mortal/mortal/lib/python3.9/site-packages/langchain_core/tools.py:133\u001b[0m, in \u001b[0;36mcreate_schema_from_function\u001b[0;34m(model_name, func)\u001b[0m\n\u001b[1;32m    131\u001b[0m     \u001b[39mdel\u001b[39;00m inferred_model\u001b[39m.\u001b[39m__fields__[\u001b[39m\"\u001b[39m\u001b[39mcallbacks\u001b[39m\u001b[39m\"\u001b[39m]\n\u001b[1;32m    132\u001b[0m \u001b[39m# Pydantic adds placeholder virtual fields we need to strip\u001b[39;00m\n\u001b[0;32m--> 133\u001b[0m valid_properties \u001b[39m=\u001b[39m _get_filtered_args(inferred_model, func)\n\u001b[1;32m    134\u001b[0m \u001b[39mreturn\u001b[39;00m _create_subset_model(\n\u001b[1;32m    135\u001b[0m     \u001b[39mf\u001b[39m\u001b[39m\"\u001b[39m\u001b[39m{\u001b[39;00mmodel_name\u001b[39m}\u001b[39;00m\u001b[39mSchema\u001b[39m\u001b[39m\"\u001b[39m, inferred_model, \u001b[39mlist\u001b[39m(valid_properties)\n\u001b[1;32m    136\u001b[0m )\n",
      "File \u001b[0;32m~/Desktop/Mortal/mortal/lib/python3.9/site-packages/langchain_core/tools.py:102\u001b[0m, in \u001b[0;36m_get_filtered_args\u001b[0;34m(inferred_model, func)\u001b[0m\n\u001b[1;32m     97\u001b[0m \u001b[39mdef\u001b[39;00m \u001b[39m_get_filtered_args\u001b[39m(\n\u001b[1;32m     98\u001b[0m     inferred_model: Type[BaseModel],\n\u001b[1;32m     99\u001b[0m     func: Callable,\n\u001b[1;32m    100\u001b[0m ) \u001b[39m-\u001b[39m\u001b[39m>\u001b[39m \u001b[39mdict\u001b[39m:\n\u001b[1;32m    101\u001b[0m \u001b[39m    \u001b[39m\u001b[39m\"\"\"Get the arguments from a function's signature.\"\"\"\u001b[39;00m\n\u001b[0;32m--> 102\u001b[0m     schema \u001b[39m=\u001b[39m inferred_model\u001b[39m.\u001b[39;49mschema()[\u001b[39m\"\u001b[39m\u001b[39mproperties\u001b[39m\u001b[39m\"\u001b[39m]\n\u001b[1;32m    103\u001b[0m     valid_keys \u001b[39m=\u001b[39m signature(func)\u001b[39m.\u001b[39mparameters\n\u001b[1;32m    104\u001b[0m     \u001b[39mreturn\u001b[39;00m {k: schema[k] \u001b[39mfor\u001b[39;00m k \u001b[39min\u001b[39;00m valid_keys \u001b[39mif\u001b[39;00m k \u001b[39mnot\u001b[39;00m \u001b[39min\u001b[39;00m (\u001b[39m\"\u001b[39m\u001b[39mrun_manager\u001b[39m\u001b[39m\"\u001b[39m, \u001b[39m\"\u001b[39m\u001b[39mcallbacks\u001b[39m\u001b[39m\"\u001b[39m)}\n",
      "File \u001b[0;32m~/Desktop/Mortal/mortal/lib/python3.9/site-packages/pydantic/v1/main.py:664\u001b[0m, in \u001b[0;36mBaseModel.schema\u001b[0;34m(cls, by_alias, ref_template)\u001b[0m\n\u001b[1;32m    662\u001b[0m \u001b[39mif\u001b[39;00m cached \u001b[39mis\u001b[39;00m \u001b[39mnot\u001b[39;00m \u001b[39mNone\u001b[39;00m:\n\u001b[1;32m    663\u001b[0m     \u001b[39mreturn\u001b[39;00m cached\n\u001b[0;32m--> 664\u001b[0m s \u001b[39m=\u001b[39m model_schema(\u001b[39mcls\u001b[39;49m, by_alias\u001b[39m=\u001b[39;49mby_alias, ref_template\u001b[39m=\u001b[39;49mref_template)\n\u001b[1;32m    665\u001b[0m \u001b[39mcls\u001b[39m\u001b[39m.\u001b[39m__schema_cache__[(by_alias, ref_template)] \u001b[39m=\u001b[39m s\n\u001b[1;32m    666\u001b[0m \u001b[39mreturn\u001b[39;00m s\n",
      "File \u001b[0;32m~/Desktop/Mortal/mortal/lib/python3.9/site-packages/pydantic/v1/schema.py:188\u001b[0m, in \u001b[0;36mmodel_schema\u001b[0;34m(model, by_alias, ref_prefix, ref_template)\u001b[0m\n\u001b[1;32m    186\u001b[0m model_name_map \u001b[39m=\u001b[39m get_model_name_map(flat_models)\n\u001b[1;32m    187\u001b[0m model_name \u001b[39m=\u001b[39m model_name_map[model]\n\u001b[0;32m--> 188\u001b[0m m_schema, m_definitions, nested_models \u001b[39m=\u001b[39m model_process_schema(\n\u001b[1;32m    189\u001b[0m     model, by_alias\u001b[39m=\u001b[39;49mby_alias, model_name_map\u001b[39m=\u001b[39;49mmodel_name_map, ref_prefix\u001b[39m=\u001b[39;49mref_prefix, ref_template\u001b[39m=\u001b[39;49mref_template\n\u001b[1;32m    190\u001b[0m )\n\u001b[1;32m    191\u001b[0m \u001b[39mif\u001b[39;00m model_name \u001b[39min\u001b[39;00m nested_models:\n\u001b[1;32m    192\u001b[0m     \u001b[39m# model_name is in Nested models, it has circular references\u001b[39;00m\n\u001b[1;32m    193\u001b[0m     m_definitions[model_name] \u001b[39m=\u001b[39m m_schema\n",
      "File \u001b[0;32m~/Desktop/Mortal/mortal/lib/python3.9/site-packages/pydantic/v1/schema.py:581\u001b[0m, in \u001b[0;36mmodel_process_schema\u001b[0;34m(model, by_alias, model_name_map, ref_prefix, ref_template, known_models, field)\u001b[0m\n\u001b[1;32m    579\u001b[0m     s[\u001b[39m'\u001b[39m\u001b[39mdescription\u001b[39m\u001b[39m'\u001b[39m] \u001b[39m=\u001b[39m doc\n\u001b[1;32m    580\u001b[0m known_models\u001b[39m.\u001b[39madd(model)\n\u001b[0;32m--> 581\u001b[0m m_schema, m_definitions, nested_models \u001b[39m=\u001b[39m model_type_schema(\n\u001b[1;32m    582\u001b[0m     model,\n\u001b[1;32m    583\u001b[0m     by_alias\u001b[39m=\u001b[39;49mby_alias,\n\u001b[1;32m    584\u001b[0m     model_name_map\u001b[39m=\u001b[39;49mmodel_name_map,\n\u001b[1;32m    585\u001b[0m     ref_prefix\u001b[39m=\u001b[39;49mref_prefix,\n\u001b[1;32m    586\u001b[0m     ref_template\u001b[39m=\u001b[39;49mref_template,\n\u001b[1;32m    587\u001b[0m     known_models\u001b[39m=\u001b[39;49mknown_models,\n\u001b[1;32m    588\u001b[0m )\n\u001b[1;32m    589\u001b[0m s\u001b[39m.\u001b[39mupdate(m_schema)\n\u001b[1;32m    590\u001b[0m schema_extra \u001b[39m=\u001b[39m model\u001b[39m.\u001b[39m__config__\u001b[39m.\u001b[39mschema_extra\n",
      "File \u001b[0;32m~/Desktop/Mortal/mortal/lib/python3.9/site-packages/pydantic/v1/schema.py:622\u001b[0m, in \u001b[0;36mmodel_type_schema\u001b[0;34m(model, by_alias, model_name_map, ref_template, ref_prefix, known_models)\u001b[0m\n\u001b[1;32m    620\u001b[0m \u001b[39mfor\u001b[39;00m k, f \u001b[39min\u001b[39;00m model\u001b[39m.\u001b[39m__fields__\u001b[39m.\u001b[39mitems():\n\u001b[1;32m    621\u001b[0m     \u001b[39mtry\u001b[39;00m:\n\u001b[0;32m--> 622\u001b[0m         f_schema, f_definitions, f_nested_models \u001b[39m=\u001b[39m field_schema(\n\u001b[1;32m    623\u001b[0m             f,\n\u001b[1;32m    624\u001b[0m             by_alias\u001b[39m=\u001b[39;49mby_alias,\n\u001b[1;32m    625\u001b[0m             model_name_map\u001b[39m=\u001b[39;49mmodel_name_map,\n\u001b[1;32m    626\u001b[0m             ref_prefix\u001b[39m=\u001b[39;49mref_prefix,\n\u001b[1;32m    627\u001b[0m             ref_template\u001b[39m=\u001b[39;49mref_template,\n\u001b[1;32m    628\u001b[0m             known_models\u001b[39m=\u001b[39;49mknown_models,\n\u001b[1;32m    629\u001b[0m         )\n\u001b[1;32m    630\u001b[0m     \u001b[39mexcept\u001b[39;00m SkipField \u001b[39mas\u001b[39;00m skip:\n\u001b[1;32m    631\u001b[0m         warnings\u001b[39m.\u001b[39mwarn(skip\u001b[39m.\u001b[39mmessage, \u001b[39mUserWarning\u001b[39;00m)\n",
      "File \u001b[0;32m~/Desktop/Mortal/mortal/lib/python3.9/site-packages/pydantic/v1/schema.py:255\u001b[0m, in \u001b[0;36mfield_schema\u001b[0;34m(field, by_alias, model_name_map, ref_prefix, ref_template, known_models)\u001b[0m\n\u001b[1;32m    252\u001b[0m     s\u001b[39m.\u001b[39mupdate(validation_schema)\n\u001b[1;32m    253\u001b[0m     schema_overrides \u001b[39m=\u001b[39m \u001b[39mTrue\u001b[39;00m\n\u001b[0;32m--> 255\u001b[0m f_schema, f_definitions, f_nested_models \u001b[39m=\u001b[39m field_type_schema(\n\u001b[1;32m    256\u001b[0m     field,\n\u001b[1;32m    257\u001b[0m     by_alias\u001b[39m=\u001b[39;49mby_alias,\n\u001b[1;32m    258\u001b[0m     model_name_map\u001b[39m=\u001b[39;49mmodel_name_map,\n\u001b[1;32m    259\u001b[0m     schema_overrides\u001b[39m=\u001b[39;49mschema_overrides,\n\u001b[1;32m    260\u001b[0m     ref_prefix\u001b[39m=\u001b[39;49mref_prefix,\n\u001b[1;32m    261\u001b[0m     ref_template\u001b[39m=\u001b[39;49mref_template,\n\u001b[1;32m    262\u001b[0m     known_models\u001b[39m=\u001b[39;49mknown_models \u001b[39mor\u001b[39;49;00m \u001b[39mset\u001b[39;49m(),\n\u001b[1;32m    263\u001b[0m )\n\u001b[1;32m    265\u001b[0m \u001b[39m# $ref will only be returned when there are no schema_overrides\u001b[39;00m\n\u001b[1;32m    266\u001b[0m \u001b[39mif\u001b[39;00m \u001b[39m'\u001b[39m\u001b[39m$ref\u001b[39m\u001b[39m'\u001b[39m \u001b[39min\u001b[39;00m f_schema:\n",
      "File \u001b[0;32m~/Desktop/Mortal/mortal/lib/python3.9/site-packages/pydantic/v1/schema.py:527\u001b[0m, in \u001b[0;36mfield_type_schema\u001b[0;34m(field, by_alias, model_name_map, ref_template, schema_overrides, ref_prefix, known_models)\u001b[0m\n\u001b[1;32m    525\u001b[0m \u001b[39melse\u001b[39;00m:\n\u001b[1;32m    526\u001b[0m     \u001b[39massert\u001b[39;00m field\u001b[39m.\u001b[39mshape \u001b[39min\u001b[39;00m {SHAPE_SINGLETON, SHAPE_GENERIC}, field\u001b[39m.\u001b[39mshape\n\u001b[0;32m--> 527\u001b[0m     f_schema, f_definitions, f_nested_models \u001b[39m=\u001b[39m field_singleton_schema(\n\u001b[1;32m    528\u001b[0m         field,\n\u001b[1;32m    529\u001b[0m         by_alias\u001b[39m=\u001b[39;49mby_alias,\n\u001b[1;32m    530\u001b[0m         model_name_map\u001b[39m=\u001b[39;49mmodel_name_map,\n\u001b[1;32m    531\u001b[0m         schema_overrides\u001b[39m=\u001b[39;49mschema_overrides,\n\u001b[1;32m    532\u001b[0m         ref_prefix\u001b[39m=\u001b[39;49mref_prefix,\n\u001b[1;32m    533\u001b[0m         ref_template\u001b[39m=\u001b[39;49mref_template,\n\u001b[1;32m    534\u001b[0m         known_models\u001b[39m=\u001b[39;49mknown_models,\n\u001b[1;32m    535\u001b[0m     )\n\u001b[1;32m    536\u001b[0m     definitions\u001b[39m.\u001b[39mupdate(f_definitions)\n\u001b[1;32m    537\u001b[0m     nested_models\u001b[39m.\u001b[39mupdate(f_nested_models)\n",
      "File \u001b[0;32m~/Desktop/Mortal/mortal/lib/python3.9/site-packages/pydantic/v1/schema.py:951\u001b[0m, in \u001b[0;36mfield_singleton_schema\u001b[0;34m(field, by_alias, model_name_map, ref_template, schema_overrides, ref_prefix, known_models)\u001b[0m\n\u001b[1;32m    948\u001b[0m \u001b[39mif\u001b[39;00m args \u001b[39mis\u001b[39;00m \u001b[39mnot\u001b[39;00m \u001b[39mNone\u001b[39;00m \u001b[39mand\u001b[39;00m \u001b[39mnot\u001b[39;00m args \u001b[39mand\u001b[39;00m Generic \u001b[39min\u001b[39;00m field_type\u001b[39m.\u001b[39m\u001b[39m__bases__\u001b[39m:\n\u001b[1;32m    949\u001b[0m     \u001b[39mreturn\u001b[39;00m f_schema, definitions, nested_models\n\u001b[0;32m--> 951\u001b[0m \u001b[39mraise\u001b[39;00m \u001b[39mValueError\u001b[39;00m(\u001b[39mf\u001b[39m\u001b[39m'\u001b[39m\u001b[39mValue not declarable with JSON Schema, field: \u001b[39m\u001b[39m{\u001b[39;00mfield\u001b[39m}\u001b[39;00m\u001b[39m'\u001b[39m)\n",
      "\u001b[0;31mValueError\u001b[0m: Value not declarable with JSON Schema, field: name='state' type=AgentState required=True"
     ]
    }
   ],
   "source": [
    "@tool\n",
    "async def click(state: AgentState):\n",
    "    \"\"\"Click action in the browser - Click [Numerical_Label]\"\"\"\n",
    "    page = state[\"page\"]\n",
    "    click_args = state[\"prediction\"][\"args\"]\n",
    "    if click_args is None or len(click_args) != 1:\n",
    "        return f\"Failed to click bounding box labeled as number {click_args}\"\n",
    "    bbox_id = click_args[0]\n",
    "    bbox_id = int(bbox_id)\n",
    "    try:\n",
    "        bbox = state[\"bboxes\"][bbox_id]\n",
    "    except Exception:\n",
    "        return f\"Error: no bbox for : {bbox_id}\"\n",
    "    x, y = bbox[\"x\"], bbox[\"y\"]\n",
    "    await page.mouse.click(x, y)\n",
    "    # TODO: In the paper, they automatically parse any downloaded PDFs\n",
    "    # We could add something similar here as well and generally\n",
    "    # improve response format.\n",
    "    return f\"Clicked {bbox_id}\""
   ]
  },
  {
   "cell_type": "code",
   "execution_count": 13,
   "metadata": {},
   "outputs": [],
   "source": [
    "@tool\n",
    "def search(query: str) -> str:\n",
    "    \"\"\"Look up things online.\"\"\"\n",
    "    return \"LangChain\""
   ]
  },
  {
   "cell_type": "code",
   "execution_count": 14,
   "metadata": {},
   "outputs": [
    {
     "name": "stdout",
     "output_type": "stream",
     "text": [
      "search\n",
      "Look up things online.\n",
      "{'query': {'title': 'Query', 'type': 'string'}}\n"
     ]
    }
   ],
   "source": [
    "print(search.name)\n",
    "print(search.description)\n",
    "print(search.args)"
   ]
  },
  {
   "cell_type": "code",
   "execution_count": null,
   "metadata": {},
   "outputs": [],
   "source": []
  },
  {
   "cell_type": "code",
   "execution_count": null,
   "metadata": {},
   "outputs": [],
   "source": []
  },
  {
   "cell_type": "markdown",
   "metadata": {},
   "source": [
    "### Understand tools and functions\n"
   ]
  },
  {
   "cell_type": "code",
   "execution_count": 90,
   "metadata": {},
   "outputs": [],
   "source": [
    "from langchain.prompts import ChatPromptTemplate\n",
    "from langchain_openai import ChatOpenAI\n",
    "from langchain.schema.output_parser import StrOutputParser"
   ]
  },
  {
   "cell_type": "code",
   "execution_count": 95,
   "metadata": {},
   "outputs": [],
   "source": [
    "prompt = ChatPromptTemplate.from_template(\"Tell me a joke about {topic}\")\n",
    "model = ChatOpenAI()\n",
    "output_parser = StrOutputParser()\n",
    "\n",
    "chain = prompt | model | output_parser"
   ]
  },
  {
   "cell_type": "code",
   "execution_count": 98,
   "metadata": {},
   "outputs": [
    {
     "name": "stdout",
     "output_type": "stream",
     "text": [
      "Why did the dick go to school? To get some more ed-ju-cum-tion!"
     ]
    }
   ],
   "source": [
    "for s in chain.stream({\"topic\": \"dick\"}):\n",
    "    print(s, end=\"\", flush=True)"
   ]
  },
  {
   "cell_type": "code",
   "execution_count": 103,
   "metadata": {},
   "outputs": [
    {
     "name": "stdout",
     "output_type": "stream",
     "text": [
      "a\n",
      "Why don't bears like fast food? \n",
      "\n",
      "Because they can't catch it!b\n"
     ]
    }
   ],
   "source": [
    "print(\"a\")\n",
    "async for s in chain.astream({\"topic\": \"bears\"}):\n",
    "    print(s, end=\"\", flush=True)\n",
    "print(\"b\")"
   ]
  },
  {
   "cell_type": "code",
   "execution_count": null,
   "metadata": {},
   "outputs": [],
   "source": [
    "import asyncio\n",
    "\n",
    "async def main():\n",
    "    print(\"a\")\n",
    "    async for s in chain.astream({\"topic\": \"bears\"}):\n",
    "        print(s, end=\"\", flush=True)\n",
    "    print(\"b\")\n",
    "\n",
    "# Run the main coroutine\n",
    "asyncio.run(main())\n",
    "\n",
    "\n",
    "# co-routine object might not be executed \n",
    "# co-routine object needs await to ectually execute it\n"
   ]
  },
  {
   "cell_type": "code",
   "execution_count": 110,
   "metadata": {},
   "outputs": [
    {
     "name": "stdout",
     "output_type": "stream",
     "text": [
      "Main start\n",
      "Task 1: Start\n",
      "Task 2: Start\n",
      "Task 2: End\n",
      "Task 1: End\n",
      "Main end\n"
     ]
    }
   ],
   "source": [
    "import asyncio\n",
    "import nest_asyncio\n",
    "\n",
    "# This is just required for running async playwright in a Jupyter notebook\n",
    "nest_asyncio.apply()\n",
    "\n",
    "import asyncio\n",
    "\n",
    "async def async_task_1(): # another coroutine function \n",
    "    print(\"Task 1: Start\")\n",
    "    await asyncio.sleep(2)\n",
    "    print(\"Task 1: End\")\n",
    "\n",
    "async def async_task_2(): # a coroutine function\n",
    "    print(\"Task 2: Start\")\n",
    "    await asyncio.sleep(1)\n",
    "    print(\"Task 2: End\")\n",
    "\n",
    "async def main():\n",
    "    print(\"Main start\")\n",
    "    task1 = asyncio.create_task(async_task_1())\n",
    "    task2 = asyncio.create_task(async_task_2())\n",
    "    await task1\n",
    "    await task2\n",
    "    print(\"Main end\")\n",
    "\n",
    "asyncio.run(main())"
   ]
  },
  {
   "cell_type": "code",
   "execution_count": 18,
   "metadata": {},
   "outputs": [],
   "source": [
    "from langchain.embeddings import OpenAIEmbeddings\n",
    "from langchain.vectorstores import DocArrayInMemorySearch"
   ]
  },
  {
   "cell_type": "code",
   "execution_count": 21,
   "metadata": {},
   "outputs": [
    {
     "ename": "ImportError",
     "evalue": "Could not import docarray python package. Please install it with `pip install \"langchain[docarray]\"`.",
     "output_type": "error",
     "traceback": [
      "\u001b[0;31m---------------------------------------------------------------------------\u001b[0m",
      "\u001b[0;31mImportError\u001b[0m                               Traceback (most recent call last)",
      "File \u001b[0;32m~/Desktop/Mortal/mortal/lib/python3.9/site-packages/langchain_community/vectorstores/docarray/base.py:19\u001b[0m, in \u001b[0;36m_check_docarray_import\u001b[0;34m()\u001b[0m\n\u001b[1;32m     18\u001b[0m \u001b[39mtry\u001b[39;00m:\n\u001b[0;32m---> 19\u001b[0m     \u001b[39mimport\u001b[39;00m \u001b[39mdocarray\u001b[39;00m\n\u001b[1;32m     21\u001b[0m     da_version \u001b[39m=\u001b[39m docarray\u001b[39m.\u001b[39m__version__\u001b[39m.\u001b[39msplit(\u001b[39m\"\u001b[39m\u001b[39m.\u001b[39m\u001b[39m\"\u001b[39m)\n",
      "File \u001b[0;32m~/Desktop/Mortal/mortal/lib/python3.9/site-packages/docarray/__init__.py:5\u001b[0m\n\u001b[1;32m      3\u001b[0m \u001b[39mimport\u001b[39;00m \u001b[39mlogging\u001b[39;00m\n\u001b[0;32m----> 5\u001b[0m \u001b[39mfrom\u001b[39;00m \u001b[39mdocarray\u001b[39;00m\u001b[39m.\u001b[39;00m\u001b[39marray\u001b[39;00m \u001b[39mimport\u001b[39;00m DocList, DocVec\n\u001b[1;32m      6\u001b[0m \u001b[39mfrom\u001b[39;00m \u001b[39mdocarray\u001b[39;00m\u001b[39m.\u001b[39;00m\u001b[39mbase_doc\u001b[39;00m\u001b[39m.\u001b[39;00m\u001b[39mdoc\u001b[39;00m \u001b[39mimport\u001b[39;00m BaseDoc\n",
      "File \u001b[0;32m~/Desktop/Mortal/mortal/lib/python3.9/site-packages/docarray/array/__init__.py:1\u001b[0m\n\u001b[0;32m----> 1\u001b[0m \u001b[39mfrom\u001b[39;00m \u001b[39mdocarray\u001b[39;00m\u001b[39m.\u001b[39;00m\u001b[39marray\u001b[39;00m\u001b[39m.\u001b[39;00m\u001b[39many_array\u001b[39;00m \u001b[39mimport\u001b[39;00m AnyDocArray\n\u001b[1;32m      2\u001b[0m \u001b[39mfrom\u001b[39;00m \u001b[39mdocarray\u001b[39;00m\u001b[39m.\u001b[39;00m\u001b[39marray\u001b[39;00m\u001b[39m.\u001b[39;00m\u001b[39mdoc_list\u001b[39;00m\u001b[39m.\u001b[39;00m\u001b[39mdoc_list\u001b[39;00m \u001b[39mimport\u001b[39;00m DocList\n",
      "File \u001b[0;32m~/Desktop/Mortal/mortal/lib/python3.9/site-packages/docarray/array/any_array.py:22\u001b[0m\n\u001b[1;32m     20\u001b[0m \u001b[39mimport\u001b[39;00m \u001b[39mnumpy\u001b[39;00m \u001b[39mas\u001b[39;00m \u001b[39mnp\u001b[39;00m\n\u001b[0;32m---> 22\u001b[0m \u001b[39mfrom\u001b[39;00m \u001b[39mdocarray\u001b[39;00m\u001b[39m.\u001b[39;00m\u001b[39mbase_doc\u001b[39;00m \u001b[39mimport\u001b[39;00m BaseDoc\n\u001b[1;32m     23\u001b[0m \u001b[39mfrom\u001b[39;00m \u001b[39mdocarray\u001b[39;00m\u001b[39m.\u001b[39;00m\u001b[39mdisplay\u001b[39;00m\u001b[39m.\u001b[39;00m\u001b[39mdocument_array_summary\u001b[39;00m \u001b[39mimport\u001b[39;00m DocArraySummary\n",
      "File \u001b[0;32m~/Desktop/Mortal/mortal/lib/python3.9/site-packages/docarray/base_doc/__init__.py:1\u001b[0m\n\u001b[0;32m----> 1\u001b[0m \u001b[39mfrom\u001b[39;00m \u001b[39mdocarray\u001b[39;00m\u001b[39m.\u001b[39;00m\u001b[39mbase_doc\u001b[39;00m\u001b[39m.\u001b[39;00m\u001b[39many_doc\u001b[39;00m \u001b[39mimport\u001b[39;00m AnyDoc\n\u001b[1;32m      2\u001b[0m \u001b[39mfrom\u001b[39;00m \u001b[39mdocarray\u001b[39;00m\u001b[39m.\u001b[39;00m\u001b[39mbase_doc\u001b[39;00m\u001b[39m.\u001b[39;00m\u001b[39mbase_node\u001b[39;00m \u001b[39mimport\u001b[39;00m BaseNode\n",
      "File \u001b[0;32m~/Desktop/Mortal/mortal/lib/python3.9/site-packages/docarray/base_doc/any_doc.py:3\u001b[0m\n\u001b[1;32m      1\u001b[0m \u001b[39mfrom\u001b[39;00m \u001b[39mtyping\u001b[39;00m \u001b[39mimport\u001b[39;00m Type\n\u001b[0;32m----> 3\u001b[0m \u001b[39mfrom\u001b[39;00m \u001b[39m.\u001b[39;00m\u001b[39mdoc\u001b[39;00m \u001b[39mimport\u001b[39;00m BaseDoc\n\u001b[1;32m      6\u001b[0m \u001b[39mclass\u001b[39;00m \u001b[39mAnyDoc\u001b[39;00m(BaseDoc):\n",
      "File \u001b[0;32m~/Desktop/Mortal/mortal/lib/python3.9/site-packages/docarray/base_doc/doc.py:22\u001b[0m\n\u001b[1;32m     21\u001b[0m \u001b[39mfrom\u001b[39;00m \u001b[39mpydantic\u001b[39;00m \u001b[39mimport\u001b[39;00m BaseModel, Field\n\u001b[0;32m---> 22\u001b[0m \u001b[39mfrom\u001b[39;00m \u001b[39mpydantic\u001b[39;00m\u001b[39m.\u001b[39;00m\u001b[39mmain\u001b[39;00m \u001b[39mimport\u001b[39;00m ROOT_KEY\n\u001b[1;32m     23\u001b[0m \u001b[39mfrom\u001b[39;00m \u001b[39mrich\u001b[39;00m\u001b[39m.\u001b[39;00m\u001b[39mconsole\u001b[39;00m \u001b[39mimport\u001b[39;00m Console\n",
      "\u001b[0;31mImportError\u001b[0m: cannot import name 'ROOT_KEY' from 'pydantic.main' (/Users/wellzhang/Desktop/Mortal/mortal/lib/python3.9/site-packages/pydantic/main.py)",
      "\nDuring handling of the above exception, another exception occurred:\n",
      "\u001b[0;31mImportError\u001b[0m                               Traceback (most recent call last)",
      "\u001b[1;32m/Users/wellzhang/Desktop/Mortal/test.ipynb Cell 32\u001b[0m line \u001b[0;36m1\n\u001b[0;32m----> <a href='vscode-notebook-cell:/Users/wellzhang/Desktop/Mortal/test.ipynb#X43sZmlsZQ%3D%3D?line=0'>1</a>\u001b[0m vectorstore \u001b[39m=\u001b[39m DocArrayInMemorySearch\u001b[39m.\u001b[39;49mfrom_texts(\n\u001b[1;32m      <a href='vscode-notebook-cell:/Users/wellzhang/Desktop/Mortal/test.ipynb#X43sZmlsZQ%3D%3D?line=1'>2</a>\u001b[0m     [\u001b[39m'\u001b[39;49m\u001b[39mmy dick is 5 feet long\u001b[39;49m\u001b[39m'\u001b[39;49m, \u001b[39m'\u001b[39;49m\u001b[39mmy activity lasts more than 2 hours\u001b[39;49m\u001b[39m'\u001b[39;49m],\n\u001b[1;32m      <a href='vscode-notebook-cell:/Users/wellzhang/Desktop/Mortal/test.ipynb#X43sZmlsZQ%3D%3D?line=2'>3</a>\u001b[0m     embedding \u001b[39m=\u001b[39;49m OpenAIEmbeddings\n\u001b[1;32m      <a href='vscode-notebook-cell:/Users/wellzhang/Desktop/Mortal/test.ipynb#X43sZmlsZQ%3D%3D?line=3'>4</a>\u001b[0m )\n",
      "File \u001b[0;32m~/Desktop/Mortal/mortal/lib/python3.9/site-packages/langchain_community/vectorstores/docarray/in_memory.py:68\u001b[0m, in \u001b[0;36mDocArrayInMemorySearch.from_texts\u001b[0;34m(cls, texts, embedding, metadatas, **kwargs)\u001b[0m\n\u001b[1;32m     46\u001b[0m \u001b[39m@classmethod\u001b[39m\n\u001b[1;32m     47\u001b[0m \u001b[39mdef\u001b[39;00m \u001b[39mfrom_texts\u001b[39m(\n\u001b[1;32m     48\u001b[0m     \u001b[39mcls\u001b[39m,\n\u001b[0;32m   (...)\u001b[0m\n\u001b[1;32m     52\u001b[0m     \u001b[39m*\u001b[39m\u001b[39m*\u001b[39mkwargs: Any,\n\u001b[1;32m     53\u001b[0m ) \u001b[39m-\u001b[39m\u001b[39m>\u001b[39m DocArrayInMemorySearch:\n\u001b[1;32m     54\u001b[0m \u001b[39m    \u001b[39m\u001b[39m\"\"\"Create an DocArrayInMemorySearch store and insert data.\u001b[39;00m\n\u001b[1;32m     55\u001b[0m \n\u001b[1;32m     56\u001b[0m \u001b[39m    Args:\u001b[39;00m\n\u001b[0;32m   (...)\u001b[0m\n\u001b[1;32m     66\u001b[0m \u001b[39m        DocArrayInMemorySearch Vector Store\u001b[39;00m\n\u001b[1;32m     67\u001b[0m \u001b[39m    \"\"\"\u001b[39;00m\n\u001b[0;32m---> 68\u001b[0m     store \u001b[39m=\u001b[39m \u001b[39mcls\u001b[39;49m\u001b[39m.\u001b[39;49mfrom_params(embedding, \u001b[39m*\u001b[39;49m\u001b[39m*\u001b[39;49mkwargs)\n\u001b[1;32m     69\u001b[0m     store\u001b[39m.\u001b[39madd_texts(texts\u001b[39m=\u001b[39mtexts, metadatas\u001b[39m=\u001b[39mmetadatas)\n\u001b[1;32m     70\u001b[0m     \u001b[39mreturn\u001b[39;00m store\n",
      "File \u001b[0;32m~/Desktop/Mortal/mortal/lib/python3.9/site-packages/langchain_community/vectorstores/docarray/in_memory.py:39\u001b[0m, in \u001b[0;36mDocArrayInMemorySearch.from_params\u001b[0;34m(cls, embedding, metric, **kwargs)\u001b[0m\n\u001b[1;32m     21\u001b[0m \u001b[39m@classmethod\u001b[39m\n\u001b[1;32m     22\u001b[0m \u001b[39mdef\u001b[39;00m \u001b[39mfrom_params\u001b[39m(\n\u001b[1;32m     23\u001b[0m     \u001b[39mcls\u001b[39m,\n\u001b[0;32m   (...)\u001b[0m\n\u001b[1;32m     28\u001b[0m     \u001b[39m*\u001b[39m\u001b[39m*\u001b[39mkwargs: Any,\n\u001b[1;32m     29\u001b[0m ) \u001b[39m-\u001b[39m\u001b[39m>\u001b[39m DocArrayInMemorySearch:\n\u001b[1;32m     30\u001b[0m \u001b[39m    \u001b[39m\u001b[39m\"\"\"Initialize DocArrayInMemorySearch store.\u001b[39;00m\n\u001b[1;32m     31\u001b[0m \n\u001b[1;32m     32\u001b[0m \u001b[39m    Args:\u001b[39;00m\n\u001b[0;32m   (...)\u001b[0m\n\u001b[1;32m     37\u001b[0m \u001b[39m        **kwargs: Other keyword arguments to be passed to the get_doc_cls method.\u001b[39;00m\n\u001b[1;32m     38\u001b[0m \u001b[39m    \"\"\"\u001b[39;00m\n\u001b[0;32m---> 39\u001b[0m     _check_docarray_import()\n\u001b[1;32m     40\u001b[0m     \u001b[39mfrom\u001b[39;00m \u001b[39mdocarray\u001b[39;00m\u001b[39m.\u001b[39;00m\u001b[39mindex\u001b[39;00m \u001b[39mimport\u001b[39;00m InMemoryExactNNIndex\n\u001b[1;32m     42\u001b[0m     doc_cls \u001b[39m=\u001b[39m \u001b[39mcls\u001b[39m\u001b[39m.\u001b[39m_get_doc_cls(space\u001b[39m=\u001b[39mmetric, \u001b[39m*\u001b[39m\u001b[39m*\u001b[39mkwargs)\n",
      "File \u001b[0;32m~/Desktop/Mortal/mortal/lib/python3.9/site-packages/langchain_community/vectorstores/docarray/base.py:29\u001b[0m, in \u001b[0;36m_check_docarray_import\u001b[0;34m()\u001b[0m\n\u001b[1;32m     23\u001b[0m         \u001b[39mraise\u001b[39;00m \u001b[39mImportError\u001b[39;00m(\n\u001b[1;32m     24\u001b[0m             \u001b[39mf\u001b[39m\u001b[39m\"\u001b[39m\u001b[39mTo use the DocArrayHnswSearch VectorStore the docarray \u001b[39m\u001b[39m\"\u001b[39m\n\u001b[1;32m     25\u001b[0m             \u001b[39mf\u001b[39m\u001b[39m\"\u001b[39m\u001b[39mversion >=0.32.0 is expected, received: \u001b[39m\u001b[39m{\u001b[39;00mdocarray\u001b[39m.\u001b[39m__version__\u001b[39m}\u001b[39;00m\u001b[39m.\u001b[39m\u001b[39m\"\u001b[39m\n\u001b[1;32m     26\u001b[0m             \u001b[39mf\u001b[39m\u001b[39m\"\u001b[39m\u001b[39mTo upgrade, please run: `pip install -U docarray`.\u001b[39m\u001b[39m\"\u001b[39m\n\u001b[1;32m     27\u001b[0m         )\n\u001b[1;32m     28\u001b[0m \u001b[39mexcept\u001b[39;00m \u001b[39mImportError\u001b[39;00m:\n\u001b[0;32m---> 29\u001b[0m     \u001b[39mraise\u001b[39;00m \u001b[39mImportError\u001b[39;00m(\n\u001b[1;32m     30\u001b[0m         \u001b[39m\"\u001b[39m\u001b[39mCould not import docarray python package. \u001b[39m\u001b[39m\"\u001b[39m\n\u001b[1;32m     31\u001b[0m         \u001b[39m'\u001b[39m\u001b[39mPlease install it with `pip install \u001b[39m\u001b[39m\"\u001b[39m\u001b[39mlangchain[docarray]\u001b[39m\u001b[39m\"\u001b[39m\u001b[39m`.\u001b[39m\u001b[39m'\u001b[39m\n\u001b[1;32m     32\u001b[0m     )\n",
      "\u001b[0;31mImportError\u001b[0m: Could not import docarray python package. Please install it with `pip install \"langchain[docarray]\"`."
     ]
    }
   ],
   "source": [
    "vectorstore = DocArrayInMemorySearch.from_texts(\n",
    "    ['my dick is 5 feet long', 'my activity lasts more than 2 hours'],\n",
    "    embedding = OpenAIEmbeddings\n",
    ")"
   ]
  },
  {
   "cell_type": "code",
   "execution_count": 30,
   "metadata": {},
   "outputs": [],
   "source": [
    "from langchain_core.utils.function_calling import convert_to_openai_function\n",
    "from langchain.prompts import ChatPromptTemplate\n",
    "from langchain_openai import ChatOpenAI\n",
    "from langchain.schema.output_parser import StrOutputParser\n",
    "\n",
    "# Tagging is like a classification job \n",
    "# Extracting is get structured info from existing unstructured data "
   ]
  },
  {
   "cell_type": "code",
   "execution_count": 61,
   "metadata": {},
   "outputs": [],
   "source": [
    "# this should be an extraction work\n",
    "\n",
    "# Tagging\n",
    "class LLMOutput(BaseModel):\n",
    "    \"The output from the LLM to extract. If not explicitly provided do not guess, extract partial info\"\n",
    "    action: str = Field(description=\"The action to take in the web browser, including the element id should be operated on.\")\n",
    "    thought: str = Field(description=\"The reasoning behind making the action\")\n",
    "\n",
    "# Extracting\n",
    "class StructuredAction(BaseModel):\n",
    "    \"Structured infomation about the action to take\"\n",
    "    action: str = Field(description=\"the exact action to take and should only from 'Click', 'Type', 'Google', 'Scroll'\")\n",
    "    element_id: Optional[int] = Field(description=\"the element id\")\n",
    "    content: Optional[str] = Field(description=\"the content needed for the action such as what to type or what to google\")\n"
   ]
  },
  {
   "cell_type": "code",
   "execution_count": 62,
   "metadata": {},
   "outputs": [],
   "source": [
    "functions = [convert_to_openai_function(LLMOutput), convert_to_openai_function(StructuredAction)]"
   ]
  },
  {
   "cell_type": "code",
   "execution_count": 69,
   "metadata": {},
   "outputs": [],
   "source": [
    "llm = ChatOpenAI()\n",
    "prompt = ChatPromptTemplate.from_messages([\n",
    "    (\"system\", \"You are a web voyager than can make good planning to complete a task on the webpage.\"),\n",
    "    (\"user\", \"{observation}\"),\n",
    "])\n",
    "llm_with_extraction_function = llm.bind(functions=functions)\n",
    "\n",
    "# the functions are literally made by pydantic classes"
   ]
  },
  {
   "cell_type": "code",
   "execution_count": 72,
   "metadata": {},
   "outputs": [],
   "source": [
    "model_with_tagging = llm.bind(functions=[convert_to_openai_function(LLMOutput)], function_call=\"LLMOutput\")\n",
    "model_with_extraction = llm.bind(functions=[convert_to_openai_function(StructuredAction)], function_call=\"StructuredAction\")"
   ]
  },
  {
   "cell_type": "code",
   "execution_count": 73,
   "metadata": {},
   "outputs": [],
   "source": [
    "chain = prompt | model_with_tagging | model_with_extraction"
   ]
  },
  {
   "cell_type": "code",
   "execution_count": 74,
   "metadata": {},
   "outputs": [
    {
     "ename": "BadRequestError",
     "evalue": "Error code: 400 - {'error': {'message': \"Invalid value: 'LLMOutput'. Supported values are: 'none' and 'auto'.\", 'type': 'invalid_request_error', 'param': 'function_call', 'code': 'invalid_value'}}",
     "output_type": "error",
     "traceback": [
      "\u001b[0;31m---------------------------------------------------------------------------\u001b[0m",
      "\u001b[0;31mBadRequestError\u001b[0m                           Traceback (most recent call last)",
      "\u001b[1;32m/Users/wellzhang/Desktop/Mortal/test.ipynb Cell 39\u001b[0m line \u001b[0;36m1\n\u001b[0;32m----> <a href='vscode-notebook-cell:/Users/wellzhang/Desktop/Mortal/test.ipynb#X60sZmlsZQ%3D%3D?line=0'>1</a>\u001b[0m chain\u001b[39m.\u001b[39;49minvoke({\u001b[39m\"\u001b[39;49m\u001b[39mobservation\u001b[39;49m\u001b[39m\"\u001b[39;49m: \u001b[39m\"\u001b[39;49m\u001b[39mthere are sign-up and sign-in buttons on the page, I need to log in to my account.\u001b[39;49m\u001b[39m\"\u001b[39;49m})\n",
      "File \u001b[0;32m~/Desktop/Mortal/mortal/lib/python3.9/site-packages/langchain_core/runnables/base.py:2408\u001b[0m, in \u001b[0;36mRunnableSequence.invoke\u001b[0;34m(self, input, config, **kwargs)\u001b[0m\n\u001b[1;32m   2406\u001b[0m             \u001b[39minput\u001b[39m \u001b[39m=\u001b[39m step\u001b[39m.\u001b[39minvoke(\u001b[39minput\u001b[39m, config, \u001b[39m*\u001b[39m\u001b[39m*\u001b[39mkwargs)\n\u001b[1;32m   2407\u001b[0m         \u001b[39melse\u001b[39;00m:\n\u001b[0;32m-> 2408\u001b[0m             \u001b[39minput\u001b[39m \u001b[39m=\u001b[39m step\u001b[39m.\u001b[39;49minvoke(\u001b[39minput\u001b[39;49m, config)\n\u001b[1;32m   2409\u001b[0m \u001b[39m# finish the root run\u001b[39;00m\n\u001b[1;32m   2410\u001b[0m \u001b[39mexcept\u001b[39;00m \u001b[39mBaseException\u001b[39;00m \u001b[39mas\u001b[39;00m e:\n",
      "File \u001b[0;32m~/Desktop/Mortal/mortal/lib/python3.9/site-packages/langchain_core/runnables/base.py:4444\u001b[0m, in \u001b[0;36mRunnableBindingBase.invoke\u001b[0;34m(self, input, config, **kwargs)\u001b[0m\n\u001b[1;32m   4438\u001b[0m \u001b[39mdef\u001b[39;00m \u001b[39minvoke\u001b[39m(\n\u001b[1;32m   4439\u001b[0m     \u001b[39mself\u001b[39m,\n\u001b[1;32m   4440\u001b[0m     \u001b[39minput\u001b[39m: Input,\n\u001b[1;32m   4441\u001b[0m     config: Optional[RunnableConfig] \u001b[39m=\u001b[39m \u001b[39mNone\u001b[39;00m,\n\u001b[1;32m   4442\u001b[0m     \u001b[39m*\u001b[39m\u001b[39m*\u001b[39mkwargs: Optional[Any],\n\u001b[1;32m   4443\u001b[0m ) \u001b[39m-\u001b[39m\u001b[39m>\u001b[39m Output:\n\u001b[0;32m-> 4444\u001b[0m     \u001b[39mreturn\u001b[39;00m \u001b[39mself\u001b[39;49m\u001b[39m.\u001b[39;49mbound\u001b[39m.\u001b[39;49minvoke(\n\u001b[1;32m   4445\u001b[0m         \u001b[39minput\u001b[39;49m,\n\u001b[1;32m   4446\u001b[0m         \u001b[39mself\u001b[39;49m\u001b[39m.\u001b[39;49m_merge_configs(config),\n\u001b[1;32m   4447\u001b[0m         \u001b[39m*\u001b[39;49m\u001b[39m*\u001b[39;49m{\u001b[39m*\u001b[39;49m\u001b[39m*\u001b[39;49m\u001b[39mself\u001b[39;49m\u001b[39m.\u001b[39;49mkwargs, \u001b[39m*\u001b[39;49m\u001b[39m*\u001b[39;49mkwargs},\n\u001b[1;32m   4448\u001b[0m     )\n",
      "File \u001b[0;32m~/Desktop/Mortal/mortal/lib/python3.9/site-packages/langchain_core/language_models/chat_models.py:170\u001b[0m, in \u001b[0;36mBaseChatModel.invoke\u001b[0;34m(self, input, config, stop, **kwargs)\u001b[0m\n\u001b[1;32m    159\u001b[0m \u001b[39mdef\u001b[39;00m \u001b[39minvoke\u001b[39m(\n\u001b[1;32m    160\u001b[0m     \u001b[39mself\u001b[39m,\n\u001b[1;32m    161\u001b[0m     \u001b[39minput\u001b[39m: LanguageModelInput,\n\u001b[0;32m   (...)\u001b[0m\n\u001b[1;32m    165\u001b[0m     \u001b[39m*\u001b[39m\u001b[39m*\u001b[39mkwargs: Any,\n\u001b[1;32m    166\u001b[0m ) \u001b[39m-\u001b[39m\u001b[39m>\u001b[39m BaseMessage:\n\u001b[1;32m    167\u001b[0m     config \u001b[39m=\u001b[39m ensure_config(config)\n\u001b[1;32m    168\u001b[0m     \u001b[39mreturn\u001b[39;00m cast(\n\u001b[1;32m    169\u001b[0m         ChatGeneration,\n\u001b[0;32m--> 170\u001b[0m         \u001b[39mself\u001b[39;49m\u001b[39m.\u001b[39;49mgenerate_prompt(\n\u001b[1;32m    171\u001b[0m             [\u001b[39mself\u001b[39;49m\u001b[39m.\u001b[39;49m_convert_input(\u001b[39minput\u001b[39;49m)],\n\u001b[1;32m    172\u001b[0m             stop\u001b[39m=\u001b[39;49mstop,\n\u001b[1;32m    173\u001b[0m             callbacks\u001b[39m=\u001b[39;49mconfig\u001b[39m.\u001b[39;49mget(\u001b[39m\"\u001b[39;49m\u001b[39mcallbacks\u001b[39;49m\u001b[39m\"\u001b[39;49m),\n\u001b[1;32m    174\u001b[0m             tags\u001b[39m=\u001b[39;49mconfig\u001b[39m.\u001b[39;49mget(\u001b[39m\"\u001b[39;49m\u001b[39mtags\u001b[39;49m\u001b[39m\"\u001b[39;49m),\n\u001b[1;32m    175\u001b[0m             metadata\u001b[39m=\u001b[39;49mconfig\u001b[39m.\u001b[39;49mget(\u001b[39m\"\u001b[39;49m\u001b[39mmetadata\u001b[39;49m\u001b[39m\"\u001b[39;49m),\n\u001b[1;32m    176\u001b[0m             run_name\u001b[39m=\u001b[39;49mconfig\u001b[39m.\u001b[39;49mget(\u001b[39m\"\u001b[39;49m\u001b[39mrun_name\u001b[39;49m\u001b[39m\"\u001b[39;49m),\n\u001b[1;32m    177\u001b[0m             run_id\u001b[39m=\u001b[39;49mconfig\u001b[39m.\u001b[39;49mpop(\u001b[39m\"\u001b[39;49m\u001b[39mrun_id\u001b[39;49m\u001b[39m\"\u001b[39;49m, \u001b[39mNone\u001b[39;49;00m),\n\u001b[1;32m    178\u001b[0m             \u001b[39m*\u001b[39;49m\u001b[39m*\u001b[39;49mkwargs,\n\u001b[1;32m    179\u001b[0m         )\u001b[39m.\u001b[39mgenerations[\u001b[39m0\u001b[39m][\u001b[39m0\u001b[39m],\n\u001b[1;32m    180\u001b[0m     )\u001b[39m.\u001b[39mmessage\n",
      "File \u001b[0;32m~/Desktop/Mortal/mortal/lib/python3.9/site-packages/langchain_core/language_models/chat_models.py:599\u001b[0m, in \u001b[0;36mBaseChatModel.generate_prompt\u001b[0;34m(self, prompts, stop, callbacks, **kwargs)\u001b[0m\n\u001b[1;32m    591\u001b[0m \u001b[39mdef\u001b[39;00m \u001b[39mgenerate_prompt\u001b[39m(\n\u001b[1;32m    592\u001b[0m     \u001b[39mself\u001b[39m,\n\u001b[1;32m    593\u001b[0m     prompts: List[PromptValue],\n\u001b[0;32m   (...)\u001b[0m\n\u001b[1;32m    596\u001b[0m     \u001b[39m*\u001b[39m\u001b[39m*\u001b[39mkwargs: Any,\n\u001b[1;32m    597\u001b[0m ) \u001b[39m-\u001b[39m\u001b[39m>\u001b[39m LLMResult:\n\u001b[1;32m    598\u001b[0m     prompt_messages \u001b[39m=\u001b[39m [p\u001b[39m.\u001b[39mto_messages() \u001b[39mfor\u001b[39;00m p \u001b[39min\u001b[39;00m prompts]\n\u001b[0;32m--> 599\u001b[0m     \u001b[39mreturn\u001b[39;00m \u001b[39mself\u001b[39;49m\u001b[39m.\u001b[39;49mgenerate(prompt_messages, stop\u001b[39m=\u001b[39;49mstop, callbacks\u001b[39m=\u001b[39;49mcallbacks, \u001b[39m*\u001b[39;49m\u001b[39m*\u001b[39;49mkwargs)\n",
      "File \u001b[0;32m~/Desktop/Mortal/mortal/lib/python3.9/site-packages/langchain_core/language_models/chat_models.py:456\u001b[0m, in \u001b[0;36mBaseChatModel.generate\u001b[0;34m(self, messages, stop, callbacks, tags, metadata, run_name, run_id, **kwargs)\u001b[0m\n\u001b[1;32m    454\u001b[0m         \u001b[39mif\u001b[39;00m run_managers:\n\u001b[1;32m    455\u001b[0m             run_managers[i]\u001b[39m.\u001b[39mon_llm_error(e, response\u001b[39m=\u001b[39mLLMResult(generations\u001b[39m=\u001b[39m[]))\n\u001b[0;32m--> 456\u001b[0m         \u001b[39mraise\u001b[39;00m e\n\u001b[1;32m    457\u001b[0m flattened_outputs \u001b[39m=\u001b[39m [\n\u001b[1;32m    458\u001b[0m     LLMResult(generations\u001b[39m=\u001b[39m[res\u001b[39m.\u001b[39mgenerations], llm_output\u001b[39m=\u001b[39mres\u001b[39m.\u001b[39mllm_output)  \u001b[39m# type: ignore[list-item]\u001b[39;00m\n\u001b[1;32m    459\u001b[0m     \u001b[39mfor\u001b[39;00m res \u001b[39min\u001b[39;00m results\n\u001b[1;32m    460\u001b[0m ]\n\u001b[1;32m    461\u001b[0m llm_output \u001b[39m=\u001b[39m \u001b[39mself\u001b[39m\u001b[39m.\u001b[39m_combine_llm_outputs([res\u001b[39m.\u001b[39mllm_output \u001b[39mfor\u001b[39;00m res \u001b[39min\u001b[39;00m results])\n",
      "File \u001b[0;32m~/Desktop/Mortal/mortal/lib/python3.9/site-packages/langchain_core/language_models/chat_models.py:446\u001b[0m, in \u001b[0;36mBaseChatModel.generate\u001b[0;34m(self, messages, stop, callbacks, tags, metadata, run_name, run_id, **kwargs)\u001b[0m\n\u001b[1;32m    443\u001b[0m \u001b[39mfor\u001b[39;00m i, m \u001b[39min\u001b[39;00m \u001b[39menumerate\u001b[39m(messages):\n\u001b[1;32m    444\u001b[0m     \u001b[39mtry\u001b[39;00m:\n\u001b[1;32m    445\u001b[0m         results\u001b[39m.\u001b[39mappend(\n\u001b[0;32m--> 446\u001b[0m             \u001b[39mself\u001b[39;49m\u001b[39m.\u001b[39;49m_generate_with_cache(\n\u001b[1;32m    447\u001b[0m                 m,\n\u001b[1;32m    448\u001b[0m                 stop\u001b[39m=\u001b[39;49mstop,\n\u001b[1;32m    449\u001b[0m                 run_manager\u001b[39m=\u001b[39;49mrun_managers[i] \u001b[39mif\u001b[39;49;00m run_managers \u001b[39melse\u001b[39;49;00m \u001b[39mNone\u001b[39;49;00m,\n\u001b[1;32m    450\u001b[0m                 \u001b[39m*\u001b[39;49m\u001b[39m*\u001b[39;49mkwargs,\n\u001b[1;32m    451\u001b[0m             )\n\u001b[1;32m    452\u001b[0m         )\n\u001b[1;32m    453\u001b[0m     \u001b[39mexcept\u001b[39;00m \u001b[39mBaseException\u001b[39;00m \u001b[39mas\u001b[39;00m e:\n\u001b[1;32m    454\u001b[0m         \u001b[39mif\u001b[39;00m run_managers:\n",
      "File \u001b[0;32m~/Desktop/Mortal/mortal/lib/python3.9/site-packages/langchain_core/language_models/chat_models.py:671\u001b[0m, in \u001b[0;36mBaseChatModel._generate_with_cache\u001b[0;34m(self, messages, stop, run_manager, **kwargs)\u001b[0m\n\u001b[1;32m    669\u001b[0m \u001b[39melse\u001b[39;00m:\n\u001b[1;32m    670\u001b[0m     \u001b[39mif\u001b[39;00m inspect\u001b[39m.\u001b[39msignature(\u001b[39mself\u001b[39m\u001b[39m.\u001b[39m_generate)\u001b[39m.\u001b[39mparameters\u001b[39m.\u001b[39mget(\u001b[39m\"\u001b[39m\u001b[39mrun_manager\u001b[39m\u001b[39m\"\u001b[39m):\n\u001b[0;32m--> 671\u001b[0m         result \u001b[39m=\u001b[39m \u001b[39mself\u001b[39;49m\u001b[39m.\u001b[39;49m_generate(\n\u001b[1;32m    672\u001b[0m             messages, stop\u001b[39m=\u001b[39;49mstop, run_manager\u001b[39m=\u001b[39;49mrun_manager, \u001b[39m*\u001b[39;49m\u001b[39m*\u001b[39;49mkwargs\n\u001b[1;32m    673\u001b[0m         )\n\u001b[1;32m    674\u001b[0m     \u001b[39melse\u001b[39;00m:\n\u001b[1;32m    675\u001b[0m         result \u001b[39m=\u001b[39m \u001b[39mself\u001b[39m\u001b[39m.\u001b[39m_generate(messages, stop\u001b[39m=\u001b[39mstop, \u001b[39m*\u001b[39m\u001b[39m*\u001b[39mkwargs)\n",
      "File \u001b[0;32m~/Desktop/Mortal/mortal/lib/python3.9/site-packages/langchain_openai/chat_models/base.py:537\u001b[0m, in \u001b[0;36mBaseChatOpenAI._generate\u001b[0;34m(self, messages, stop, run_manager, **kwargs)\u001b[0m\n\u001b[1;32m    535\u001b[0m message_dicts, params \u001b[39m=\u001b[39m \u001b[39mself\u001b[39m\u001b[39m.\u001b[39m_create_message_dicts(messages, stop)\n\u001b[1;32m    536\u001b[0m params \u001b[39m=\u001b[39m {\u001b[39m*\u001b[39m\u001b[39m*\u001b[39mparams, \u001b[39m*\u001b[39m\u001b[39m*\u001b[39mkwargs}\n\u001b[0;32m--> 537\u001b[0m response \u001b[39m=\u001b[39m \u001b[39mself\u001b[39;49m\u001b[39m.\u001b[39;49mclient\u001b[39m.\u001b[39;49mcreate(messages\u001b[39m=\u001b[39;49mmessage_dicts, \u001b[39m*\u001b[39;49m\u001b[39m*\u001b[39;49mparams)\n\u001b[1;32m    538\u001b[0m \u001b[39mreturn\u001b[39;00m \u001b[39mself\u001b[39m\u001b[39m.\u001b[39m_create_chat_result(response)\n",
      "File \u001b[0;32m~/Desktop/Mortal/mortal/lib/python3.9/site-packages/openai/_utils/_utils.py:277\u001b[0m, in \u001b[0;36mrequired_args.<locals>.inner.<locals>.wrapper\u001b[0;34m(*args, **kwargs)\u001b[0m\n\u001b[1;32m    275\u001b[0m             msg \u001b[39m=\u001b[39m \u001b[39mf\u001b[39m\u001b[39m\"\u001b[39m\u001b[39mMissing required argument: \u001b[39m\u001b[39m{\u001b[39;00mquote(missing[\u001b[39m0\u001b[39m])\u001b[39m}\u001b[39;00m\u001b[39m\"\u001b[39m\n\u001b[1;32m    276\u001b[0m     \u001b[39mraise\u001b[39;00m \u001b[39mTypeError\u001b[39;00m(msg)\n\u001b[0;32m--> 277\u001b[0m \u001b[39mreturn\u001b[39;00m func(\u001b[39m*\u001b[39;49margs, \u001b[39m*\u001b[39;49m\u001b[39m*\u001b[39;49mkwargs)\n",
      "File \u001b[0;32m~/Desktop/Mortal/mortal/lib/python3.9/site-packages/openai/resources/chat/completions.py:590\u001b[0m, in \u001b[0;36mCompletions.create\u001b[0;34m(self, messages, model, frequency_penalty, function_call, functions, logit_bias, logprobs, max_tokens, n, presence_penalty, response_format, seed, stop, stream, stream_options, temperature, tool_choice, tools, top_logprobs, top_p, user, extra_headers, extra_query, extra_body, timeout)\u001b[0m\n\u001b[1;32m    558\u001b[0m \u001b[39m@required_args\u001b[39m([\u001b[39m\"\u001b[39m\u001b[39mmessages\u001b[39m\u001b[39m\"\u001b[39m, \u001b[39m\"\u001b[39m\u001b[39mmodel\u001b[39m\u001b[39m\"\u001b[39m], [\u001b[39m\"\u001b[39m\u001b[39mmessages\u001b[39m\u001b[39m\"\u001b[39m, \u001b[39m\"\u001b[39m\u001b[39mmodel\u001b[39m\u001b[39m\"\u001b[39m, \u001b[39m\"\u001b[39m\u001b[39mstream\u001b[39m\u001b[39m\"\u001b[39m])\n\u001b[1;32m    559\u001b[0m \u001b[39mdef\u001b[39;00m \u001b[39mcreate\u001b[39m(\n\u001b[1;32m    560\u001b[0m     \u001b[39mself\u001b[39m,\n\u001b[0;32m   (...)\u001b[0m\n\u001b[1;32m    588\u001b[0m     timeout: \u001b[39mfloat\u001b[39m \u001b[39m|\u001b[39m httpx\u001b[39m.\u001b[39mTimeout \u001b[39m|\u001b[39m \u001b[39mNone\u001b[39;00m \u001b[39m|\u001b[39m NotGiven \u001b[39m=\u001b[39m NOT_GIVEN,\n\u001b[1;32m    589\u001b[0m ) \u001b[39m-\u001b[39m\u001b[39m>\u001b[39m ChatCompletion \u001b[39m|\u001b[39m Stream[ChatCompletionChunk]:\n\u001b[0;32m--> 590\u001b[0m     \u001b[39mreturn\u001b[39;00m \u001b[39mself\u001b[39;49m\u001b[39m.\u001b[39;49m_post(\n\u001b[1;32m    591\u001b[0m         \u001b[39m\"\u001b[39;49m\u001b[39m/chat/completions\u001b[39;49m\u001b[39m\"\u001b[39;49m,\n\u001b[1;32m    592\u001b[0m         body\u001b[39m=\u001b[39;49mmaybe_transform(\n\u001b[1;32m    593\u001b[0m             {\n\u001b[1;32m    594\u001b[0m                 \u001b[39m\"\u001b[39;49m\u001b[39mmessages\u001b[39;49m\u001b[39m\"\u001b[39;49m: messages,\n\u001b[1;32m    595\u001b[0m                 \u001b[39m\"\u001b[39;49m\u001b[39mmodel\u001b[39;49m\u001b[39m\"\u001b[39;49m: model,\n\u001b[1;32m    596\u001b[0m                 \u001b[39m\"\u001b[39;49m\u001b[39mfrequency_penalty\u001b[39;49m\u001b[39m\"\u001b[39;49m: frequency_penalty,\n\u001b[1;32m    597\u001b[0m                 \u001b[39m\"\u001b[39;49m\u001b[39mfunction_call\u001b[39;49m\u001b[39m\"\u001b[39;49m: function_call,\n\u001b[1;32m    598\u001b[0m                 \u001b[39m\"\u001b[39;49m\u001b[39mfunctions\u001b[39;49m\u001b[39m\"\u001b[39;49m: functions,\n\u001b[1;32m    599\u001b[0m                 \u001b[39m\"\u001b[39;49m\u001b[39mlogit_bias\u001b[39;49m\u001b[39m\"\u001b[39;49m: logit_bias,\n\u001b[1;32m    600\u001b[0m                 \u001b[39m\"\u001b[39;49m\u001b[39mlogprobs\u001b[39;49m\u001b[39m\"\u001b[39;49m: logprobs,\n\u001b[1;32m    601\u001b[0m                 \u001b[39m\"\u001b[39;49m\u001b[39mmax_tokens\u001b[39;49m\u001b[39m\"\u001b[39;49m: max_tokens,\n\u001b[1;32m    602\u001b[0m                 \u001b[39m\"\u001b[39;49m\u001b[39mn\u001b[39;49m\u001b[39m\"\u001b[39;49m: n,\n\u001b[1;32m    603\u001b[0m                 \u001b[39m\"\u001b[39;49m\u001b[39mpresence_penalty\u001b[39;49m\u001b[39m\"\u001b[39;49m: presence_penalty,\n\u001b[1;32m    604\u001b[0m                 \u001b[39m\"\u001b[39;49m\u001b[39mresponse_format\u001b[39;49m\u001b[39m\"\u001b[39;49m: response_format,\n\u001b[1;32m    605\u001b[0m                 \u001b[39m\"\u001b[39;49m\u001b[39mseed\u001b[39;49m\u001b[39m\"\u001b[39;49m: seed,\n\u001b[1;32m    606\u001b[0m                 \u001b[39m\"\u001b[39;49m\u001b[39mstop\u001b[39;49m\u001b[39m\"\u001b[39;49m: stop,\n\u001b[1;32m    607\u001b[0m                 \u001b[39m\"\u001b[39;49m\u001b[39mstream\u001b[39;49m\u001b[39m\"\u001b[39;49m: stream,\n\u001b[1;32m    608\u001b[0m                 \u001b[39m\"\u001b[39;49m\u001b[39mstream_options\u001b[39;49m\u001b[39m\"\u001b[39;49m: stream_options,\n\u001b[1;32m    609\u001b[0m                 \u001b[39m\"\u001b[39;49m\u001b[39mtemperature\u001b[39;49m\u001b[39m\"\u001b[39;49m: temperature,\n\u001b[1;32m    610\u001b[0m                 \u001b[39m\"\u001b[39;49m\u001b[39mtool_choice\u001b[39;49m\u001b[39m\"\u001b[39;49m: tool_choice,\n\u001b[1;32m    611\u001b[0m                 \u001b[39m\"\u001b[39;49m\u001b[39mtools\u001b[39;49m\u001b[39m\"\u001b[39;49m: tools,\n\u001b[1;32m    612\u001b[0m                 \u001b[39m\"\u001b[39;49m\u001b[39mtop_logprobs\u001b[39;49m\u001b[39m\"\u001b[39;49m: top_logprobs,\n\u001b[1;32m    613\u001b[0m                 \u001b[39m\"\u001b[39;49m\u001b[39mtop_p\u001b[39;49m\u001b[39m\"\u001b[39;49m: top_p,\n\u001b[1;32m    614\u001b[0m                 \u001b[39m\"\u001b[39;49m\u001b[39muser\u001b[39;49m\u001b[39m\"\u001b[39;49m: user,\n\u001b[1;32m    615\u001b[0m             },\n\u001b[1;32m    616\u001b[0m             completion_create_params\u001b[39m.\u001b[39;49mCompletionCreateParams,\n\u001b[1;32m    617\u001b[0m         ),\n\u001b[1;32m    618\u001b[0m         options\u001b[39m=\u001b[39;49mmake_request_options(\n\u001b[1;32m    619\u001b[0m             extra_headers\u001b[39m=\u001b[39;49mextra_headers, extra_query\u001b[39m=\u001b[39;49mextra_query, extra_body\u001b[39m=\u001b[39;49mextra_body, timeout\u001b[39m=\u001b[39;49mtimeout\n\u001b[1;32m    620\u001b[0m         ),\n\u001b[1;32m    621\u001b[0m         cast_to\u001b[39m=\u001b[39;49mChatCompletion,\n\u001b[1;32m    622\u001b[0m         stream\u001b[39m=\u001b[39;49mstream \u001b[39mor\u001b[39;49;00m \u001b[39mFalse\u001b[39;49;00m,\n\u001b[1;32m    623\u001b[0m         stream_cls\u001b[39m=\u001b[39;49mStream[ChatCompletionChunk],\n\u001b[1;32m    624\u001b[0m     )\n",
      "File \u001b[0;32m~/Desktop/Mortal/mortal/lib/python3.9/site-packages/openai/_base_client.py:1240\u001b[0m, in \u001b[0;36mSyncAPIClient.post\u001b[0;34m(self, path, cast_to, body, options, files, stream, stream_cls)\u001b[0m\n\u001b[1;32m   1226\u001b[0m \u001b[39mdef\u001b[39;00m \u001b[39mpost\u001b[39m(\n\u001b[1;32m   1227\u001b[0m     \u001b[39mself\u001b[39m,\n\u001b[1;32m   1228\u001b[0m     path: \u001b[39mstr\u001b[39m,\n\u001b[0;32m   (...)\u001b[0m\n\u001b[1;32m   1235\u001b[0m     stream_cls: \u001b[39mtype\u001b[39m[_StreamT] \u001b[39m|\u001b[39m \u001b[39mNone\u001b[39;00m \u001b[39m=\u001b[39m \u001b[39mNone\u001b[39;00m,\n\u001b[1;32m   1236\u001b[0m ) \u001b[39m-\u001b[39m\u001b[39m>\u001b[39m ResponseT \u001b[39m|\u001b[39m _StreamT:\n\u001b[1;32m   1237\u001b[0m     opts \u001b[39m=\u001b[39m FinalRequestOptions\u001b[39m.\u001b[39mconstruct(\n\u001b[1;32m   1238\u001b[0m         method\u001b[39m=\u001b[39m\u001b[39m\"\u001b[39m\u001b[39mpost\u001b[39m\u001b[39m\"\u001b[39m, url\u001b[39m=\u001b[39mpath, json_data\u001b[39m=\u001b[39mbody, files\u001b[39m=\u001b[39mto_httpx_files(files), \u001b[39m*\u001b[39m\u001b[39m*\u001b[39moptions\n\u001b[1;32m   1239\u001b[0m     )\n\u001b[0;32m-> 1240\u001b[0m     \u001b[39mreturn\u001b[39;00m cast(ResponseT, \u001b[39mself\u001b[39;49m\u001b[39m.\u001b[39;49mrequest(cast_to, opts, stream\u001b[39m=\u001b[39;49mstream, stream_cls\u001b[39m=\u001b[39;49mstream_cls))\n",
      "File \u001b[0;32m~/Desktop/Mortal/mortal/lib/python3.9/site-packages/openai/_base_client.py:921\u001b[0m, in \u001b[0;36mSyncAPIClient.request\u001b[0;34m(self, cast_to, options, remaining_retries, stream, stream_cls)\u001b[0m\n\u001b[1;32m    912\u001b[0m \u001b[39mdef\u001b[39;00m \u001b[39mrequest\u001b[39m(\n\u001b[1;32m    913\u001b[0m     \u001b[39mself\u001b[39m,\n\u001b[1;32m    914\u001b[0m     cast_to: Type[ResponseT],\n\u001b[0;32m   (...)\u001b[0m\n\u001b[1;32m    919\u001b[0m     stream_cls: \u001b[39mtype\u001b[39m[_StreamT] \u001b[39m|\u001b[39m \u001b[39mNone\u001b[39;00m \u001b[39m=\u001b[39m \u001b[39mNone\u001b[39;00m,\n\u001b[1;32m    920\u001b[0m ) \u001b[39m-\u001b[39m\u001b[39m>\u001b[39m ResponseT \u001b[39m|\u001b[39m _StreamT:\n\u001b[0;32m--> 921\u001b[0m     \u001b[39mreturn\u001b[39;00m \u001b[39mself\u001b[39;49m\u001b[39m.\u001b[39;49m_request(\n\u001b[1;32m    922\u001b[0m         cast_to\u001b[39m=\u001b[39;49mcast_to,\n\u001b[1;32m    923\u001b[0m         options\u001b[39m=\u001b[39;49moptions,\n\u001b[1;32m    924\u001b[0m         stream\u001b[39m=\u001b[39;49mstream,\n\u001b[1;32m    925\u001b[0m         stream_cls\u001b[39m=\u001b[39;49mstream_cls,\n\u001b[1;32m    926\u001b[0m         remaining_retries\u001b[39m=\u001b[39;49mremaining_retries,\n\u001b[1;32m    927\u001b[0m     )\n",
      "File \u001b[0;32m~/Desktop/Mortal/mortal/lib/python3.9/site-packages/openai/_base_client.py:1020\u001b[0m, in \u001b[0;36mSyncAPIClient._request\u001b[0;34m(self, cast_to, options, remaining_retries, stream, stream_cls)\u001b[0m\n\u001b[1;32m   1017\u001b[0m         err\u001b[39m.\u001b[39mresponse\u001b[39m.\u001b[39mread()\n\u001b[1;32m   1019\u001b[0m     log\u001b[39m.\u001b[39mdebug(\u001b[39m\"\u001b[39m\u001b[39mRe-raising status error\u001b[39m\u001b[39m\"\u001b[39m)\n\u001b[0;32m-> 1020\u001b[0m     \u001b[39mraise\u001b[39;00m \u001b[39mself\u001b[39m\u001b[39m.\u001b[39m_make_status_error_from_response(err\u001b[39m.\u001b[39mresponse) \u001b[39mfrom\u001b[39;00m \u001b[39mNone\u001b[39;00m\n\u001b[1;32m   1022\u001b[0m \u001b[39mreturn\u001b[39;00m \u001b[39mself\u001b[39m\u001b[39m.\u001b[39m_process_response(\n\u001b[1;32m   1023\u001b[0m     cast_to\u001b[39m=\u001b[39mcast_to,\n\u001b[1;32m   1024\u001b[0m     options\u001b[39m=\u001b[39moptions,\n\u001b[0;32m   (...)\u001b[0m\n\u001b[1;32m   1027\u001b[0m     stream_cls\u001b[39m=\u001b[39mstream_cls,\n\u001b[1;32m   1028\u001b[0m )\n",
      "\u001b[0;31mBadRequestError\u001b[0m: Error code: 400 - {'error': {'message': \"Invalid value: 'LLMOutput'. Supported values are: 'none' and 'auto'.\", 'type': 'invalid_request_error', 'param': 'function_call', 'code': 'invalid_value'}}"
     ]
    }
   ],
   "source": [
    "chain.invoke({\"observation\": \"there are sign-up and sign-in buttons on the page, I need to log in to my account.\"})"
   ]
  },
  {
   "cell_type": "code",
   "execution_count": 65,
   "metadata": {},
   "outputs": [],
   "source": [
    "from langchain_core.output_parsers.openai_functions import JsonOutputFunctionsParser"
   ]
  },
  {
   "cell_type": "code",
   "execution_count": 66,
   "metadata": {},
   "outputs": [],
   "source": [
    "chain_json = chain | JsonOutputFunctionsParser()"
   ]
  },
  {
   "cell_type": "code",
   "execution_count": 67,
   "metadata": {},
   "outputs": [
    {
     "data": {
      "text/plain": [
       "{'action': 'click',\n",
       " 'element': 2,\n",
       " 'thought': 'To log in to your account, click on the sign-in button on the page.'}"
      ]
     },
     "execution_count": 67,
     "metadata": {},
     "output_type": "execute_result"
    }
   ],
   "source": [
    "# I tried to do planning and extraction at the same time \n",
    "# seems like we need to have action and thought as the output of the LLM using tagging and then turn them into structured info. \n",
    "\n",
    "chain_json.invoke({\"observation\": \"there are sign-up and sign-in buttons on the page, I need to log in to my account.\"})"
   ]
  },
  {
   "cell_type": "code",
   "execution_count": null,
   "metadata": {},
   "outputs": [],
   "source": [
    "# how to use multiple functions in the same chain?"
   ]
  },
  {
   "cell_type": "markdown",
   "metadata": {},
   "source": [
    "### To decide what functions to call \n",
    "#### The langchain concept of a tool -> and then make the tool an openai function"
   ]
  },
  {
   "cell_type": "code",
   "execution_count": 86,
   "metadata": {},
   "outputs": [
    {
     "name": "stdout",
     "output_type": "stream",
     "text": [
      "marker 1\n"
     ]
    }
   ],
   "source": [
    "def double_print(func):\n",
    "    print(\"marker 1\")\n",
    "    def wrapper(*args, **kwargs):\n",
    "        # func(*args, **kwargs)\n",
    "        # func(*args, **kwargs)\n",
    "        for arg in kwargs:\n",
    "            func(arg)\n",
    "            func(arg)\n",
    "    return wrapper\n",
    "\n",
    "def tool1(to_print: str):\n",
    "    print(to_print)\n",
    "\n",
    "@double_print\n",
    "def tool2(to_print: str):\n",
    "    print(to_print)"
   ]
  },
  {
   "cell_type": "code",
   "execution_count": 87,
   "metadata": {},
   "outputs": [],
   "source": [
    "tool2(\"hi\")"
   ]
  },
  {
   "cell_type": "code",
   "execution_count": 3,
   "metadata": {},
   "outputs": [
    {
     "name": "stdout",
     "output_type": "stream",
     "text": [
      "multiply\n",
      "Multiply two numbers.\n",
      "{'a': {'title': 'A', 'type': 'integer'}, 'b': {'title': 'B', 'type': 'integer'}}\n"
     ]
    }
   ],
   "source": [
    "from langchain_core.tools import tool\n",
    "from run import AgentState\n",
    "\n",
    "\n",
    "@tool\n",
    "def multiply(a: int, b: int) -> int:\n",
    "    \"\"\"Multiply two numbers.\"\"\"\n",
    "    return a * b\n",
    "\n",
    "\n",
    "# Let's inspect some of the attributes associated with the tool.\n",
    "print(multiply.name)\n",
    "print(multiply.description)\n",
    "print(multiply.args)"
   ]
  },
  {
   "cell_type": "code",
   "execution_count": 61,
   "metadata": {},
   "outputs": [],
   "source": [
    "from langchain.pydantic_v1 import BaseModel, Field\n",
    "from run import BoundingBox, Prediction\n",
    "from playwright.async_api import Page\n",
    "from typing import List, Annotated\n",
    "from langchain_core.messages import AnyMessage, SystemMessage, HumanMessage\n",
    "from langgraph.graph.message import add_messages\n",
    "\n",
    "from pydantic import BaseModel as PydanticBaseModel\n",
    "\n",
    "class BaseModel(PydanticBaseModel):\n",
    "    class Config:\n",
    "        arbitrary_types_allowed = True\n",
    "\n",
    "\n",
    "\n",
    "class StateAsInput(BaseModel):\n",
    "    messages: Annotated[list[AnyMessage], add_messages] = Field(description=\"The messages exchanged between the user and the agent.\")\n",
    "    supervisor_mode: bool = Field(description=\"Whether the agent is in supervisor mode.\")\n",
    "    query_human: bool = Field(description=\"Whether the agent should query the human.\")\n",
    "    page: Page = Field(description=\"The page where the agent should perform actions.\")\n",
    "    input: str = Field(description=\"The input to the agent.\")\n",
    "    img: str = Field(description=\"The screenshot of the page.\")\n",
    "    bounding_boxes: List[BoundingBox] = Field(description=\"The bounding boxes on the page.\")\n",
    "    prediction: Prediction = Field(description=\"The prediction of the agent.\")\n",
    "    observation: Annotated[str, add_messages] = Field(description=\"The observation of the agent.\")\n"
   ]
  },
  {
   "cell_type": "code",
   "execution_count": 50,
   "metadata": {},
   "outputs": [],
   "source": [
    "from typing import Optional, Type\n",
    "\n",
    "from langchain.pydantic_v1 import BaseModel\n",
    "from langchain_core.callbacks import (\n",
    "    AsyncCallbackManagerForToolRun,\n",
    "    CallbackManagerForToolRun,\n",
    ")\n",
    "from langchain_core.tools import BaseTool\n",
    "\n",
    "class CustomClickTool(BaseTool):\n",
    "    name = \"click\"\n",
    "    description = \"Click action in the browser - Click [Numerical_Label]\"\n",
    "    args_schema: Type[BaseModel] = StateAsInput\n",
    "    return_direct: bool = True\n",
    "\n",
    "    def _run(\n",
    "        self, state: AgentState, run_manager: Optional[CallbackManagerForToolRun] = None\n",
    "    ) -> str:\n",
    "        \"\"\"Use the tool.\"\"\"\n",
    "        page = state[\"page\"]\n",
    "        click_args = state[\"prediction\"][\"args\"] \n",
    "        if click_args is None or len(click_args) != 1:\n",
    "            return f\"Failed to click bounding box labeled as number {click_args}\"\n",
    "        bbox_id = click_args[0]\n",
    "        bbox_id = int(bbox_id)\n",
    "        try:\n",
    "            bbox = state[\"bboxes\"][bbox_id]\n",
    "        except Exception:\n",
    "            return f\"Error: no bbox for : {bbox_id}\"\n",
    "        x, y = bbox[\"x\"], bbox[\"y\"]\n",
    "        page.mouse.click(x, y)\n",
    "        return f\"Clicked {bbox_id}\"\n",
    "        \n",
    "\n",
    "    # async def _arun(\n",
    "    #     self,\n",
    "    #     state: AgentState,\n",
    "    #     run_manager: Optional[AsyncCallbackManagerForToolRun] = None,\n",
    "    # ) -> str:\n",
    "    #     \"\"\"Use the tool asynchronously.\"\"\"\n",
    "\n",
    "    #     return self._run(state, run_manager=run_manager.get_sync())"
   ]
  },
  {
   "cell_type": "code",
   "execution_count": 52,
   "metadata": {},
   "outputs": [
    {
     "name": "stdout",
     "output_type": "stream",
     "text": [
      "click\n",
      "Click action in the browser - Click [Numerical_Label]\n"
     ]
    }
   ],
   "source": [
    "click = CustomClickTool()\n",
    "\n",
    "print(click.name)\n",
    "print(click.description)\n",
    "# print(click.args)\n",
    "# print(click.return_direct)\n"
   ]
  },
  {
   "cell_type": "code",
   "execution_count": 59,
   "metadata": {},
   "outputs": [],
   "source": [
    "import base64\n",
    "from langchain_openai import ChatOpenAI\n",
    "\n",
    "\n",
    "def encode_image(image_path):\n",
    "    with open(image_path, \"rb\") as image_file:\n",
    "        return base64.b64encode(image_file.read()).decode('utf-8')"
   ]
  },
  {
   "cell_type": "code",
   "execution_count": 65,
   "metadata": {},
   "outputs": [
    {
     "name": "stdout",
     "output_type": "stream",
     "text": [
      "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\n"
     ]
    }
   ],
   "source": [
    "path = \"./test_screenshots/screenshot_45.png\"\n",
    "encoded_image = encode_image(path)\n",
    "print(encoded_image)\n",
    "from prompts import SYSTEM_PROMPT\n"
   ]
  },
  {
   "cell_type": "code",
   "execution_count": 66,
   "metadata": {},
   "outputs": [],
   "source": [
    "bbox_observation = '\\nValid Bounding Boxes:\\n0 (<div/>): \"\"\\n1 (<div/>): \"Amazon Jobs home page\"\\n2 (<input/>): \"\"\\n3 (<input/>): \"\"\\n4 (<span/>): \"\"\\n5 (<a/>): \"Your job application\"\\n6 (<a/>): \"Apply now for Software Dev Engineer, AGI\"\\n7 (<a/>): \"Cookie Preference Center\"\\n8 (<a/>): \"Candidate Cookie Notice\"\\n9 (<a/>): \"Candidate Cookie Notice\"\\n10 (<a/>): \"Candidate Privacy Notice\"\\n11 (<a/>): \"California supplement notice\"\\n12 (<b/>): \"Accept all\"\\n13 (<b/>): \"Reject all\"\\n14 (<b/>): \"Customize cookies\"'\n",
    "\n",
    "text_content = (\n",
    "            \"Observation: please analyze the attached screenshot and give the Thought and Action. I've provided the tag name of each element and the text it contains (if text exists). Note that <textarea> or <input> may be textbox, but not exactly. Please focus more on the screenshot and then refer to the textual information.\\n\"\n",
    "            f\"{bbox_observation}\"\n",
    "        )\n",
    "\n",
    "def image_summarize(img_base64, prompt):\n",
    "    chat = ChatOpenAI(model=\"gpt-4o\", max_tokens=1024)\n",
    "    msg = chat.invoke(\n",
    "        [   SystemMessage(content=SYSTEM_PROMPT),\n",
    "            HumanMessage(\n",
    "                content=[\n",
    "                    {\"type\": \"text\", \"text\": text_content},\n",
    "                    {\n",
    "                        \"type\": \"image_url\",\n",
    "                        \"image_url\": {\"url\": f\"data:image/jpeg;base64,{encoded_image}\"},\n",
    "                    },\n",
    "                ]\n",
    "            )\n",
    "        ]\n",
    "    )\n",
    "    return msg.content"
   ]
  },
  {
   "cell_type": "code",
   "execution_count": 67,
   "metadata": {},
   "outputs": [
    {
     "name": "stdout",
     "output_type": "stream",
     "text": [
      "Thought: The webpage is an Amazon Jobs page for the position of Software Dev Engineer, AGI. There are several interactive elements including cookie preferences and a job application link. The task seems to require interacting with a specific element.\n",
      "\n",
      "Action: Click [6]\n"
     ]
    }
   ],
   "source": [
    "prompt = \"Summarize the image\"\n",
    "print(image_summarize(encoded_image, prompt))"
   ]
  },
  {
   "cell_type": "code",
   "execution_count": null,
   "metadata": {},
   "outputs": [],
   "source": []
  },
  {
   "cell_type": "code",
   "execution_count": null,
   "metadata": {},
   "outputs": [],
   "source": []
  },
  {
   "cell_type": "code",
   "execution_count": null,
   "metadata": {},
   "outputs": [],
   "source": []
  },
  {
   "cell_type": "code",
   "execution_count": 22,
   "metadata": {},
   "outputs": [
    {
     "name": "stdout",
     "output_type": "stream",
     "text": [
      "click\n",
      "Click action in the browser - Click [Numerical_Label]\n",
      "{'messages': {'title': 'Messages', 'description': 'The messages exchanged between the user and the agent.', 'type': 'array', 'items': {'anyOf': [{'$ref': '#/definitions/AIMessage'}, {'$ref': '#/definitions/HumanMessage'}, {'$ref': '#/definitions/ChatMessage'}, {'$ref': '#/definitions/SystemMessage'}, {'$ref': '#/definitions/FunctionMessage'}, {'$ref': '#/definitions/ToolMessage'}]}}, 'supervisor_mode': {'title': 'Supervisor Mode', 'description': 'Whether the agent is in supervisor mode.', 'type': 'boolean'}, 'query_human': {'title': 'Query Human', 'description': 'Whether the agent should query the human.', 'type': 'boolean'}, 'input': {'title': 'Input', 'description': 'The input to the agent.', 'type': 'string'}, 'img': {'title': 'Img', 'description': 'The screenshot of the page.', 'type': 'string'}, 'bounding_boxes': {'title': 'Bounding Boxes', 'description': 'The bounding boxes on the page.', 'type': 'array', 'items': {'$ref': '#/definitions/BoundingBox'}}, 'prediction': {'title': 'Prediction', 'description': 'The prediction of the agent.', 'allOf': [{'$ref': '#/definitions/Prediction'}]}, 'observation': {'title': 'Observation', 'description': 'The observation of the agent.', 'type': 'string'}}\n",
      "True\n"
     ]
    }
   ],
   "source": [
    "print(click.name)\n",
    "print(click.description)\n",
    "print(click.args)\n",
    "print(click.return_direct)\n"
   ]
  },
  {
   "cell_type": "code",
   "execution_count": null,
   "metadata": {},
   "outputs": [],
   "source": [
    "@tool(\"click\", args_schema=StateAsInput, return_direct=True)\n",
    "async def click(state: AgentState)-> str:\n",
    "    \"\"\"\n",
    "    Click action in the browser - Click [Numerical_Label]\n",
    "    \"\"\"\n",
    "    page = state[\"page\"]\n",
    "    click_args = state[\"prediction\"][\"args\"] \n",
    "    if click_args is None or len(click_args) != 1:\n",
    "        return f\"Failed to click bounding box labeled as number {click_args}\"\n",
    "    bbox_id = click_args[0]\n",
    "    bbox_id = int(bbox_id)\n",
    "    try:\n",
    "        bbox = state[\"bboxes\"][bbox_id]\n",
    "    except Exception:\n",
    "        return f\"Error: no bbox for : {bbox_id}\"\n",
    "    x, y = bbox[\"x\"], bbox[\"y\"]\n",
    "    await page.mouse.click(x, y)\n",
    "\n",
    "    return f\"Clicked {bbox_id}\""
   ]
  },
  {
   "cell_type": "code",
   "execution_count": null,
   "metadata": {},
   "outputs": [],
   "source": []
  },
  {
   "cell_type": "code",
   "execution_count": 108,
   "metadata": {},
   "outputs": [
    {
     "name": "stdout",
     "output_type": "stream",
     "text": [
      "[(Document(page_content='{\"query_id\": 1, \"query\": \"Please provide the password you would like to use for creating the account.\", \"response\": \"1234567Zzw!\", \"timestamp\": \"2024-06-17T21:42:57.597586\"}', metadata={'seq_num': 1, 'source': '/Users/wellzhang/Desktop/Mortal/memory/info.json'}),\n",
      "  0.6879530576279216)]\n",
      "page_content='{\"query_id\": 1, \"query\": \"Please provide the password you would like to use for creating the account.\", \"response\": \"1234567Zzw!\", \"timestamp\": \"2024-06-17T21:42:57.597586\"}' metadata={'seq_num': 1, 'source': '/Users/wellzhang/Desktop/Mortal/memory/info.json'}\n",
      "0.6879530576279216\n"
     ]
    }
   ],
   "source": [
    "from langchain_openai import OpenAIEmbeddings\n",
    "import json\n",
    "from langchain_community.document_loaders import JSONLoader\n",
    "from langchain_community.vectorstores import Chroma\n",
    "from pprint import pprint\n",
    "\n",
    "\n",
    "def retrieve_info_memory(request, relevance_threshold=0.6):\n",
    "    loader = JSONLoader(file_path=\"memory/info.json\", jq_schema=\".[]\", text_content=False)\n",
    "    documents = loader.load()\n",
    "\n",
    "    if not documents:\n",
    "        raise ValueError(\"No documents found\")\n",
    "\n",
    "    embedding = OpenAIEmbeddings()\n",
    "\n",
    "    db = Chroma.from_documents(documents, embedding)\n",
    "    docs = db.similarity_search_with_relevance_scores(request, k=1)\n",
    "    pprint(docs)\n",
    "\n",
    "\n",
    "\n",
    "    # Check if there are any results\n",
    "    if not docs or not docs[0]:\n",
    "        raise ValueError(\"No matching documents found\")\n",
    "    \n",
    "    # print(docs[0][1])\n",
    "\n",
    "    # Assuming the docs have a 'score' attribute that represents relevance\n",
    "    if docs[0][1] < relevance_threshold:\n",
    "        raise ValueError(\"No sufficiently relevant documents found\")\n",
    "    \n",
    "\n",
    "    return docs[0]\n",
    "\n",
    "request = \"What is my password?\"\n",
    "\n",
    "doc = retrieve_info_memory(request)\n",
    "print(doc[0])\n",
    "print(doc[1])\n"
   ]
  },
  {
   "cell_type": "code",
   "execution_count": null,
   "metadata": {},
   "outputs": [],
   "source": []
  },
  {
   "cell_type": "markdown",
   "metadata": {},
   "source": [
    "### Testing on retreieving memory from images"
   ]
  },
  {
   "cell_type": "code",
   "execution_count": null,
   "metadata": {},
   "outputs": [],
   "source": [
    "\n",
    "image_message = HumanMessage(\n",
    "    content=[\n",
    "        {\"type\": \"text\", \"text\": text_content},\n",
    "        {\n",
    "            \"type\": \"image_url\",\n",
    "            \"image_url\": {\"url\": f\"data:image/jpeg;base64,{b64_img}\"},\n",
    "        },\n",
    "    ]\n",
    ")"
   ]
  },
  {
   "cell_type": "code",
   "execution_count": null,
   "metadata": {},
   "outputs": [],
   "source": [
    "# test if wen need to add images or just text context summary is enough\n",
    "# if encoded in base64\n",
    "# try with context summary first \n",
    "\n",
    "# convert agent thought into agent_action?\n",
    "\n",
    "# Human feedback: \"Agent action needs improvement.\" + real human feedback \n",
    "# Human feedback: \"Agent action is correct.\" + None\n",
    "\n",
    "# Thought seems necessary, which shows motivation\n",
    "\n",
    "\n",
    "\n",
    "# then each step needs to be updated into the experience, otherwise the \n",
    "# sreenshot id format: \"experience_{experience_id}_step_{step_id}.png\"\n",
    "# prompt: the newer should come first, don't implement until there is a problem\n",
    "{\n",
    "    \"experiences\": [\n",
    "        {\n",
    "            \"experience_id\": \"1\",\n",
    "            \"steps\": [\n",
    "                {\n",
    "                    \"step_id\": \"1\",\n",
    "                    \"context_summary\": {\n",
    "                        \"bbox_description\": \"\",\n",
    "                        \"visual_summary\": \"\"\n",
    "                    },\n",
    "                    \"image_id\": screenshot_id,\n",
    "                    \"agent_thought\": \"To sign in, we need to enter the email address and password into the respective fields and then click the 'Sign In' button.\",\n",
    "                    \"agent_action\": \"The agent clicked on the bounding box labeled as number 1.\",\n",
    "                    \"human_feedback\": \"\",\n",
    "                    \"timestamp\": \"2022-03-22 12:00:00\"\n",
    "                },\n",
    "                {\n",
    "                    \"step_id\": \"2\",\n",
    "                    \"context_summary\": {\n",
    "                        \"bbox_description\": \"\",\n",
    "                        \"visual_summary\": \"\"\n",
    "                    },\n",
    "                    \"image_id\": screenshot_id,\n",
    "                    \"agent_action\": \"The agent clicked on the bounding box labeled as number 1.\",\n",
    "                    \"human_feedback\": \"we should sign in first\",\n",
    "                    \"timestamp\": \"2022-03-22 12:00:00\"\n",
    "                }\n",
    "            ]\n",
    "        }\n",
    "    ]\n",
    "}\n",
    "\n"
   ]
  },
  {
   "cell_type": "code",
   "execution_count": 45,
   "metadata": {},
   "outputs": [
    {
     "data": {
      "text/plain": [
       "Info(info=[Data(ques=\"What is the user's email address?\", ans='wellzhang1217@gmail.com')])"
      ]
     },
     "execution_count": 45,
     "metadata": {},
     "output_type": "execute_result"
    }
   ],
   "source": [
    "from utils import conclude_info\n",
    "\n",
    "text = \"query: Please provide your email address and password for signing in Zillow. response: email is wellzhang1217@gmail.com and password is 1234567Zzw!\"\n",
    "# text = \"My name is Jeff, my hair is black and i am 6 feet tall. Anna has the same color hair as me.\"\n",
    "\n",
    "conclude_info(text)"
   ]
  },
  {
   "cell_type": "code",
   "execution_count": 48,
   "metadata": {},
   "outputs": [
    {
     "data": {
      "text/plain": [
       "Info(info=[Data(ques=\"What is the user's email address?\", ans='wellzhang1217@gmail.com'), Data(ques=\"What is the user's password?\", ans='1234567Zzw!')])"
      ]
     },
     "execution_count": 48,
     "metadata": {},
     "output_type": "execute_result"
    }
   ],
   "source": [
    "from typing import List, Optional\n",
    "\n",
    "from langchain_core.pydantic_v1 import BaseModel, Field\n",
    "\n",
    "from langchain_core.prompts import ChatPromptTemplate\n",
    "\n",
    "from langchain_openai import ChatOpenAI\n",
    "\n",
    "llm = ChatOpenAI(model=\"gpt-4o\", temperature=0)\n",
    "\n",
    "\n",
    "class Data(BaseModel):\n",
    "    \"\"\"Personal information about the user presented in a Q&A format, consisting of a question and its answer.\"\"\"\n",
    "    ques: Optional[str] = Field(default=None, description=\"The question regarding the user's information, e.g., 'What is the user's name?' or 'What is the user's email address?'\")\n",
    "    ans: Optional[str] = Field(default=None, description='The answer to the question, e.g., \"John Doe\" or \"john.doe@email.com\"')\n",
    "\n",
    "\n",
    "class Info(BaseModel):\n",
    "    \"\"\"Information about the user, consisting of a list of data.\"\"\"\n",
    "    info: List[Data] = Field(description=\"A list of personal information about the user.\")\n",
    "\n",
    "prompt = ChatPromptTemplate.from_messages(\n",
    "    [\n",
    "        (\n",
    "            \"system\",\n",
    "            \"You are an expert extraction algorithm. \"\n",
    "            \"Only extract relevant information from the text. \"\n",
    "            \"If you do not know the value of an attribute asked to extract, \"\n",
    "            \"return null for the attribute's value.\",\n",
    "        ),\n",
    "        # Please see the how-to about improving performance with\n",
    "        # reference examples.\n",
    "        # MessagesPlaceholder('examples'),\n",
    "        (\"human\", \"{text}\"),\n",
    "    ]\n",
    ")\n",
    "\n",
    "runnable = prompt | llm.with_structured_output(schema=Info)\n",
    "text = \"query: Please provide your email address and password for signing in. response: email is wellzhang1217@gmail.com and password is 1234567Zzw!\"\n",
    "runnable.invoke({\"text\": text})"
   ]
  },
  {
   "cell_type": "code",
   "execution_count": 49,
   "metadata": {},
   "outputs": [
    {
     "name": "stdout",
     "output_type": "stream",
     "text": [
      "Observation: please analyze the attached screenshot and give the Thought and Action. I've provided the tag name of each element and the text it contains (if text exists). Note that <textarea> or <input> may be textbox, but not exactly. Please focus more on the screenshot and then refer to the textual information.\n",
      "Please provide the tag name of each element and the text it contains (if text exists). Note that <textarea> or <input> may be textbox, but not exactly. Please focus more on the screenshot and then refer to the textual information.\n"
     ]
    }
   ],
   "source": [
    "TOOL_PROMPT = \"Please provide the tag name of each element and the text it contains (if text exists). Note that <textarea> or <input> may be textbox, but not exactly. Please focus more on the screenshot and then refer to the textual information.\"\n",
    "\n",
    "text_content = (\n",
    "    \"Observation: please analyze the attached screenshot and give the Thought and Action. I've provided the tag name of each element and the text it contains (if text exists). Note that <textarea> or <input> may be textbox, but not exactly. Please focus more on the screenshot and then refer to the textual information.\\n\"\n",
    "    f\"{TOOL_PROMPT}\"\n",
    ")\n",
    "\n",
    "print(text_content)"
   ]
  },
  {
   "cell_type": "code",
   "execution_count": 5,
   "metadata": {},
   "outputs": [
    {
     "name": "stdout",
     "output_type": "stream",
     "text": [
      "[{'experience_id': '1', 'steps': [None]},\n",
      " {'experience_id': '2', 'steps': []},\n",
      " {'experience_id': '3', 'steps': []},\n",
      " {'experience_id': '4',\n",
      "  'steps': [{'agent_action': 'Click',\n",
      "             'agent_thought': 'To proceed with job application tasks, clicking '\n",
      "                              'the \"Search for Jobs\" button is the necessary '\n",
      "                              'first step.',\n",
      "             'context_summary': {'bbox_description': '\\n'\n",
      "                                                     'Valid Bounding Boxes:\\n'\n",
      "                                                     '0 (<img/>): \"\"\\n'\n",
      "                                                     '1 (<button/>): \"Search '\n",
      "                                                     'for Jobs\"\\n'\n",
      "                                                     '2 (<input/>): \"\"\\n'\n",
      "                                                     '3 (<input/>): \"\"\\n'\n",
      "                                                     '4 (<div/>): \"Sign In\"\\n'\n",
      "                                                     '5 (<button/>): \"Create '\n",
      "                                                     'Account\"\\n'\n",
      "                                                     '6 (<button/>): \"Forgot '\n",
      "                                                     'your password?\"',\n",
      "                                 'visual_summary': 'The screenshot is of a '\n",
      "                                                   'webpage related to Zillow. '\n",
      "                                                   'The page features a job '\n",
      "                                                   'search button labeled '\n",
      "                                                   '\"Search for Jobs\" at the '\n",
      "                                                   'top right (1). Below a '\n",
      "                                                   'banner image and text, '\n",
      "                                                   'there is a sign-in form in '\n",
      "                                                   'the center with fields for '\n",
      "                                                   '\"Email Address\" (2) and '\n",
      "                                                   '\"Password\" (3), a \"Sign '\n",
      "                                                   'In\" button (4), a \"Create '\n",
      "                                                   'Account\" button (5), and a '\n",
      "                                                   '\"Forgot your password?\" '\n",
      "                                                   'button (6).'},\n",
      "             'human_feedback': \"Agent action needs improvement. let's sign in \"\n",
      "                               'first',\n",
      "             'image_id': 'test_screenshots/screenshot_274.png',\n",
      "             'timestamp': '2024-06-23T18:47:54.109793'}]},\n",
      " {'experience_id': '5',\n",
      "  'steps': [{'agent_action': 'Click',\n",
      "             'agent_thought': 'To proceed with job application search, the '\n",
      "                              '\"Search for Jobs\" button (1) should be clicked.',\n",
      "             'context_summary': {'bbox_description': '\\n'\n",
      "                                                     'Valid Bounding Boxes:\\n'\n",
      "                                                     '0 (<img/>): \"\"\\n'\n",
      "                                                     '1 (<button/>): \"Search '\n",
      "                                                     'for Jobs\"\\n'\n",
      "                                                     '2 (<input/>): \"\"\\n'\n",
      "                                                     '3 (<input/>): \"\"\\n'\n",
      "                                                     '4 (<div/>): \"Sign In\"\\n'\n",
      "                                                     '5 (<button/>): \"Create '\n",
      "                                                     'Account\"\\n'\n",
      "                                                     '6 (<button/>): \"Forgot '\n",
      "                                                     'your password?\"',\n",
      "                                 'visual_summary': 'The screenshot displays a '\n",
      "                                                   'webpage from Zillow with a '\n",
      "                                                   'sign-in form. The top '\n",
      "                                                   'section has a \"Search for '\n",
      "                                                   'Jobs\" button (1). Below is '\n",
      "                                                   'the sign-in form with the '\n",
      "                                                   'following elements: an '\n",
      "                                                   'email address input field '\n",
      "                                                   '(2), a password input '\n",
      "                                                   'field (3), a \"Sign In\" '\n",
      "                                                   'button (4), \"Create '\n",
      "                                                   'Account\" link (5), and '\n",
      "                                                   '\"Forgot your password?\" '\n",
      "                                                   'link (6).'},\n",
      "             'human_feedback': \"Agent action needs improvement. let's sign in \"\n",
      "                               'first',\n",
      "             'image_id': 'test_screenshots/screenshot_275.png',\n",
      "             'timestamp': '2024-06-23T18:56:21.205804'},\n",
      "            {'agent_action': 'Type_Text',\n",
      "             'agent_thought': 'To sign in, we need to input the provided email '\n",
      "                              'address and password into the corresponding '\n",
      "                              'fields.',\n",
      "             'context_summary': {'bbox_description': '\\n'\n",
      "                                                     'Valid Bounding Boxes:\\n'\n",
      "                                                     '0 (<img/>): \"\"\\n'\n",
      "                                                     '1 (<button/>): \"Search '\n",
      "                                                     'for Jobs\"\\n'\n",
      "                                                     '2 (<input/>): \"\"\\n'\n",
      "                                                     '3 (<input/>): \"\"\\n'\n",
      "                                                     '4 (<div/>): \"Sign In\"\\n'\n",
      "                                                     '5 (<button/>): \"Create '\n",
      "                                                     'Account\"\\n'\n",
      "                                                     '6 (<button/>): \"Forgot '\n",
      "                                                     'your password?\"',\n",
      "                                 'visual_summary': 'The screenshot shows a '\n",
      "                                                   'sign-in page for Zillow. '\n",
      "                                                   'The page contains fields '\n",
      "                                                   'for an email address and '\n",
      "                                                   'password, along with '\n",
      "                                                   'buttons for \"Sign In,\" '\n",
      "                                                   '\"Create Account,\" and '\n",
      "                                                   '\"Forgot your password?\". '\n",
      "                                                   'The top right corner has a '\n",
      "                                                   '\"Search for Jobs\" button.'},\n",
      "             'human_feedback': 'Agent action is correct. ',\n",
      "             'image_id': 'test_screenshots/screenshot_275.png',\n",
      "             'timestamp': '2024-06-23T18:58:50.388978'},\n",
      "            {'agent_action': 'Click',\n",
      "             'agent_thought': 'The next step is to click the \"Sign In\" button '\n",
      "                              'to proceed with signing in.',\n",
      "             'context_summary': {'bbox_description': '\\n'\n",
      "                                                     'Valid Bounding Boxes:\\n'\n",
      "                                                     '0 (<img/>): \"\"\\n'\n",
      "                                                     '1 (<button/>): \"Search '\n",
      "                                                     'for Jobs\"\\n'\n",
      "                                                     '2 (<input/>): \"\"\\n'\n",
      "                                                     '3 (<input/>): \"\"\\n'\n",
      "                                                     '4 (<div/>): \"Sign In\"\\n'\n",
      "                                                     '5 (<button/>): \"Create '\n",
      "                                                     'Account\"\\n'\n",
      "                                                     '6 (<button/>): \"Forgot '\n",
      "                                                     'your password?\"',\n",
      "                                 'visual_summary': 'The screenshot shows the '\n",
      "                                                   'Zillow sign-in page. The '\n",
      "                                                   'elements include:'},\n",
      "             'human_feedback': 'Agent action needs improvement. You still need '\n",
      "                               'to fill in the email',\n",
      "             'image_id': 'test_screenshots/screenshot_276.png',\n",
      "             'timestamp': '2024-06-23T18:59:49.105341'},\n",
      "            {'agent_action': 'Type_Text',\n",
      "             'agent_thought': 'To complete the sign-in process, I need to fill '\n",
      "                              'in the email address field with the provided '\n",
      "                              'email.',\n",
      "             'context_summary': {'bbox_description': '\\n'\n",
      "                                                     'Valid Bounding Boxes:\\n'\n",
      "                                                     '0 (<img/>): \"\"\\n'\n",
      "                                                     '1 (<button/>): \"Search '\n",
      "                                                     'for Jobs\"\\n'\n",
      "                                                     '2 (<input/>): \"\"\\n'\n",
      "                                                     '3 (<input/>): \"\"\\n'\n",
      "                                                     '4 (<div/>): \"Sign In\"\\n'\n",
      "                                                     '5 (<button/>): \"Create '\n",
      "                                                     'Account\"\\n'\n",
      "                                                     '6 (<button/>): \"Forgot '\n",
      "                                                     'your password?\"',\n",
      "                                 'visual_summary': 'The sign-in page for '\n",
      "                                                   'Zillow is displayed. The '\n",
      "                                                   'email address field (label '\n",
      "                                                   '2) is currently empty, '\n",
      "                                                   'while the password field '\n",
      "                                                   '(label 3) has been filled. '\n",
      "                                                   'The \"Sign In\" button '\n",
      "                                                   '(label 4) is also visible '\n",
      "                                                   'but not yet clicked.'},\n",
      "             'human_feedback': 'Agent action is correct. ',\n",
      "             'image_id': 'test_screenshots/screenshot_276.png',\n",
      "             'timestamp': '2024-06-23T19:01:30.281005'},\n",
      "            {'agent_action': 'Click',\n",
      "             'agent_thought': 'The next step is to click the \"Sign In\" button '\n",
      "                              'to complete the sign-in process.',\n",
      "             'context_summary': {'bbox_description': '\\n'\n",
      "                                                     'Valid Bounding Boxes:\\n'\n",
      "                                                     '0 (<img/>): \"\"\\n'\n",
      "                                                     '1 (<button/>): \"Search '\n",
      "                                                     'for Jobs\"\\n'\n",
      "                                                     '2 (<input/>): \"\"\\n'\n",
      "                                                     '3 (<input/>): \"\"\\n'\n",
      "                                                     '4 (<div/>): \"Sign In\"\\n'\n",
      "                                                     '5 (<button/>): \"Create '\n",
      "                                                     'Account\"\\n'\n",
      "                                                     '6 (<button/>): \"Forgot '\n",
      "                                                     'your password?\"',\n",
      "                                 'visual_summary': 'The sign-in page for '\n",
      "                                                   'Zillow shows that the '\n",
      "                                                   'email address '\n",
      "                                                   '\"wellzhang1217@gmail.com\" '\n",
      "                                                   'has been entered into the '\n",
      "                                                   'email field (label 2). The '\n",
      "                                                   'password field (label 3) '\n",
      "                                                   'has also been filled. The '\n",
      "                                                   '\"Sign In\" button (label 4) '\n",
      "                                                   'is visible and ready to be '\n",
      "                                                   'clicked.'},\n",
      "             'human_feedback': 'Agent action is correct. ',\n",
      "             'image_id': 'test_screenshots/screenshot_277.png',\n",
      "             'timestamp': '2024-06-23T19:02:01.730715'}]},\n",
      " {'experience_id': '6',\n",
      "  'steps': [{'agent_action': 'Click',\n",
      "             'agent_thought': 'To proceed, clicking on the \"Search for Jobs\" '\n",
      "                              'button would be the next logical step to look '\n",
      "                              'for job opportunities.',\n",
      "             'context_summary': {'bbox_description': '\\n'\n",
      "                                                     'Valid Bounding Boxes:\\n'\n",
      "                                                     '0 (<img/>): \"\"\\n'\n",
      "                                                     '1 (<button/>): \"Search '\n",
      "                                                     'for Jobs\"\\n'\n",
      "                                                     '2 (<input/>): \"\"\\n'\n",
      "                                                     '3 (<input/>): \"\"\\n'\n",
      "                                                     '4 (<div/>): \"Sign In\"\\n'\n",
      "                                                     '5 (<button/>): \"Create '\n",
      "                                                     'Account\"\\n'\n",
      "                                                     '6 (<button/>): \"Forgot '\n",
      "                                                     'your password?\"',\n",
      "                                 'visual_summary': 'The screenshot shows a '\n",
      "                                                   'webpage from Zillow, '\n",
      "                                                   'featuring a sign-in form. '\n",
      "                                                   'The top left corner has '\n",
      "                                                   'the Zillow logo (element '\n",
      "                                                   '0). The top right corner '\n",
      "                                                   'has a \"Search for Jobs\" '\n",
      "                                                   'button (element 1). The '\n",
      "                                                   'sign-in form includes an '\n",
      "                                                   'email address input box '\n",
      "                                                   '(element 2), a password '\n",
      "                                                   'input box (element 3), a '\n",
      "                                                   '\"Sign In\" button (element '\n",
      "                                                   '4), a \"Create Account\" '\n",
      "                                                   'button (element 5), and a '\n",
      "                                                   '\"Forgot your password?\" '\n",
      "                                                   'link (element 6).'},\n",
      "             'human_feedback': 'Agent action needs improvement. Feedback to '\n",
      "                               \"the current action: let's sign in first\",\n",
      "             'image_id': 'test_screenshots/screenshot_279.png',\n",
      "             'timestamp': '2024-06-23T23:55:07.271503'}]},\n",
      " {'experience_id': '7', 'steps': []},\n",
      " {'experience_id': '8',\n",
      "  'steps': [{'agent_action': 'Type_Text',\n",
      "             'agent_thought': 'The first step is to input the email address '\n",
      "                              'into the email address input box.',\n",
      "             'context_summary': {'bbox_description': '\\n'\n",
      "                                                     'Valid Bounding Boxes:\\n'\n",
      "                                                     '0 (<img/>): \"\"\\n'\n",
      "                                                     '1 (<button/>): \"Search '\n",
      "                                                     'for Jobs\"\\n'\n",
      "                                                     '2 (<input/>): \"\"\\n'\n",
      "                                                     '3 (<input/>): \"\"\\n'\n",
      "                                                     '4 (<div/>): \"Sign In\"\\n'\n",
      "                                                     '5 (<button/>): \"Create '\n",
      "                                                     'Account\"\\n'\n",
      "                                                     '6 (<button/>): \"Forgot '\n",
      "                                                     'your password?\"',\n",
      "                                 'visual_summary': 'The user has provided '\n",
      "                                                   'their email address and '\n",
      "                                                   'password for signing in. '\n",
      "                                                   'The email address is '\n",
      "                                                   '`wellzhang1217@gmail.com` '\n",
      "                                                   'and the password is '\n",
      "                                                   '`123456789well`. We need '\n",
      "                                                   'to input these credentials '\n",
      "                                                   'into the respective input '\n",
      "                                                   'boxes.'},\n",
      "             'human_feedback': 'Agent action is correct. ',\n",
      "             'image_id': 'test_screenshots/screenshot_281.png',\n",
      "             'timestamp': '2024-06-24T00:02:18.352173'},\n",
      "            {'agent_action': 'Type_Text',\n",
      "             'agent_thought': 'The next action is to input the provided '\n",
      "                              'password into the password input box.',\n",
      "             'context_summary': {'bbox_description': '\\n'\n",
      "                                                     'Valid Bounding Boxes:\\n'\n",
      "                                                     '0 (<img/>): \"\"\\n'\n",
      "                                                     '1 (<button/>): \"Search '\n",
      "                                                     'for Jobs\"\\n'\n",
      "                                                     '2 (<input/>): \"\"\\n'\n",
      "                                                     '3 (<input/>): \"\"\\n'\n",
      "                                                     '4 (<div/>): \"Sign In\"\\n'\n",
      "                                                     '5 (<button/>): \"Create '\n",
      "                                                     'Account\"\\n'\n",
      "                                                     '6 (<button/>): \"Forgot '\n",
      "                                                     'your password?\"',\n",
      "                                 'visual_summary': 'The email address input '\n",
      "                                                   'box (label 2) is now '\n",
      "                                                   'filled with '\n",
      "                                                   '`wellzhang1217@gmail.com`. '\n",
      "                                                   'The password input box '\n",
      "                                                   '(label 3) remains empty. '\n",
      "                                                   'The next step is to input '\n",
      "                                                   'the password.'},\n",
      "             'human_feedback': 'Agent action is correct. ',\n",
      "             'image_id': 'test_screenshots/screenshot_282.png',\n",
      "             'timestamp': '2024-06-24T00:02:34.182202'},\n",
      "            {'agent_action': 'Click',\n",
      "             'agent_thought': 'The next action is to click the \"Sign In\" '\n",
      "                              'button to submit the login credentials.',\n",
      "             'context_summary': {'bbox_description': '\\n'\n",
      "                                                     'Valid Bounding Boxes:\\n'\n",
      "                                                     '0 (<img/>): \"\"\\n'\n",
      "                                                     '1 (<button/>): \"Search '\n",
      "                                                     'for Jobs\"\\n'\n",
      "                                                     '2 (<input/>): \"\"\\n'\n",
      "                                                     '3 (<input/>): \"\"\\n'\n",
      "                                                     '4 (<div/>): \"Sign In\"\\n'\n",
      "                                                     '5 (<button/>): \"Create '\n",
      "                                                     'Account\"\\n'\n",
      "                                                     '6 (<button/>): \"Forgot '\n",
      "                                                     'your password?\"',\n",
      "                                 'visual_summary': 'Both the email address and '\n",
      "                                                   'the password input boxes '\n",
      "                                                   'have been filled with the '\n",
      "                                                   'provided credentials. The '\n",
      "                                                   'next step is to click the '\n",
      "                                                   '\"Sign In\" button (label 4) '\n",
      "                                                   'to proceed with the login '\n",
      "                                                   'process.'},\n",
      "             'human_feedback': 'Agent action is correct. ',\n",
      "             'image_id': 'test_screenshots/screenshot_283.png',\n",
      "             'timestamp': '2024-06-24T00:02:49.596792'}]}]\n"
     ]
    }
   ],
   "source": [
    "import json\n",
    "from pathlib import Path\n",
    "from pprint import pprint\n",
    "\n",
    "file_path='./memory/experiences.json'\n",
    "data = json.loads(Path(file_path).read_text())\n",
    "\n",
    "pprint(data)"
   ]
  },
  {
   "cell_type": "code",
   "execution_count": 6,
   "metadata": {},
   "outputs": [
    {
     "name": "stdout",
     "output_type": "stream",
     "text": [
      "[Document(page_content='', metadata={'source': '/Users/wellzhang/Desktop/Mortal/memory/experiences.json', 'seq_num': 1}),\n",
      " Document(page_content='{\"context_summary\": {\"bbox_description\": \"\\\\nValid Bounding Boxes:\\\\n0 (<img/>): \\\\\"\\\\\"\\\\n1 (<button/>): \\\\\"Search for Jobs\\\\\"\\\\n2 (<input/>): \\\\\"\\\\\"\\\\n3 (<input/>): \\\\\"\\\\\"\\\\n4 (<div/>): \\\\\"Sign In\\\\\"\\\\n5 (<button/>): \\\\\"Create Account\\\\\"\\\\n6 (<button/>): \\\\\"Forgot your password?\\\\\"\", \"visual_summary\": \"The screenshot is of a webpage related to Zillow. The page features a job search button labeled \\\\\"Search for Jobs\\\\\" at the top right (1). Below a banner image and text, there is a sign-in form in the center with fields for \\\\\"Email Address\\\\\" (2) and \\\\\"Password\\\\\" (3), a \\\\\"Sign In\\\\\" button (4), a \\\\\"Create Account\\\\\" button (5), and a \\\\\"Forgot your password?\\\\\" button (6).\"}, \"image_id\": \"test_screenshots/screenshot_274.png\", \"agent_thought\": \"To proceed with job application tasks, clicking the \\\\\"Search for Jobs\\\\\" button is the necessary first step.\", \"agent_action\": \"Click\", \"human_feedback\": \"Agent action needs improvement. let\\'s sign in first\", \"timestamp\": \"2024-06-23T18:47:54.109793\"}', metadata={'source': '/Users/wellzhang/Desktop/Mortal/memory/experiences.json', 'seq_num': 2}),\n",
      " Document(page_content='{\"context_summary\": {\"bbox_description\": \"\\\\nValid Bounding Boxes:\\\\n0 (<img/>): \\\\\"\\\\\"\\\\n1 (<button/>): \\\\\"Search for Jobs\\\\\"\\\\n2 (<input/>): \\\\\"\\\\\"\\\\n3 (<input/>): \\\\\"\\\\\"\\\\n4 (<div/>): \\\\\"Sign In\\\\\"\\\\n5 (<button/>): \\\\\"Create Account\\\\\"\\\\n6 (<button/>): \\\\\"Forgot your password?\\\\\"\", \"visual_summary\": \"The screenshot displays a webpage from Zillow with a sign-in form. The top section has a \\\\\"Search for Jobs\\\\\" button (1). Below is the sign-in form with the following elements: an email address input field (2), a password input field (3), a \\\\\"Sign In\\\\\" button (4), \\\\\"Create Account\\\\\" link (5), and \\\\\"Forgot your password?\\\\\" link (6).\"}, \"image_id\": \"test_screenshots/screenshot_275.png\", \"agent_thought\": \"To proceed with job application search, the \\\\\"Search for Jobs\\\\\" button (1) should be clicked.\", \"agent_action\": \"Click\", \"human_feedback\": \"Agent action needs improvement. let\\'s sign in first\", \"timestamp\": \"2024-06-23T18:56:21.205804\"}', metadata={'source': '/Users/wellzhang/Desktop/Mortal/memory/experiences.json', 'seq_num': 3}),\n",
      " Document(page_content='{\"context_summary\": {\"bbox_description\": \"\\\\nValid Bounding Boxes:\\\\n0 (<img/>): \\\\\"\\\\\"\\\\n1 (<button/>): \\\\\"Search for Jobs\\\\\"\\\\n2 (<input/>): \\\\\"\\\\\"\\\\n3 (<input/>): \\\\\"\\\\\"\\\\n4 (<div/>): \\\\\"Sign In\\\\\"\\\\n5 (<button/>): \\\\\"Create Account\\\\\"\\\\n6 (<button/>): \\\\\"Forgot your password?\\\\\"\", \"visual_summary\": \"The screenshot shows a sign-in page for Zillow. The page contains fields for an email address and password, along with buttons for \\\\\"Sign In,\\\\\" \\\\\"Create Account,\\\\\" and \\\\\"Forgot your password?\\\\\". The top right corner has a \\\\\"Search for Jobs\\\\\" button.\"}, \"image_id\": \"test_screenshots/screenshot_275.png\", \"agent_thought\": \"To sign in, we need to input the provided email address and password into the corresponding fields.\", \"agent_action\": \"Type_Text\", \"human_feedback\": \"Agent action is correct. \", \"timestamp\": \"2024-06-23T18:58:50.388978\"}', metadata={'source': '/Users/wellzhang/Desktop/Mortal/memory/experiences.json', 'seq_num': 4}),\n",
      " Document(page_content='{\"context_summary\": {\"bbox_description\": \"\\\\nValid Bounding Boxes:\\\\n0 (<img/>): \\\\\"\\\\\"\\\\n1 (<button/>): \\\\\"Search for Jobs\\\\\"\\\\n2 (<input/>): \\\\\"\\\\\"\\\\n3 (<input/>): \\\\\"\\\\\"\\\\n4 (<div/>): \\\\\"Sign In\\\\\"\\\\n5 (<button/>): \\\\\"Create Account\\\\\"\\\\n6 (<button/>): \\\\\"Forgot your password?\\\\\"\", \"visual_summary\": \"The screenshot shows the Zillow sign-in page. The elements include:\"}, \"image_id\": \"test_screenshots/screenshot_276.png\", \"agent_thought\": \"The next step is to click the \\\\\"Sign In\\\\\" button to proceed with signing in.\", \"agent_action\": \"Click\", \"human_feedback\": \"Agent action needs improvement. You still need to fill in the email\", \"timestamp\": \"2024-06-23T18:59:49.105341\"}', metadata={'source': '/Users/wellzhang/Desktop/Mortal/memory/experiences.json', 'seq_num': 5}),\n",
      " Document(page_content='{\"context_summary\": {\"bbox_description\": \"\\\\nValid Bounding Boxes:\\\\n0 (<img/>): \\\\\"\\\\\"\\\\n1 (<button/>): \\\\\"Search for Jobs\\\\\"\\\\n2 (<input/>): \\\\\"\\\\\"\\\\n3 (<input/>): \\\\\"\\\\\"\\\\n4 (<div/>): \\\\\"Sign In\\\\\"\\\\n5 (<button/>): \\\\\"Create Account\\\\\"\\\\n6 (<button/>): \\\\\"Forgot your password?\\\\\"\", \"visual_summary\": \"The sign-in page for Zillow is displayed. The email address field (label 2) is currently empty, while the password field (label 3) has been filled. The \\\\\"Sign In\\\\\" button (label 4) is also visible but not yet clicked.\"}, \"image_id\": \"test_screenshots/screenshot_276.png\", \"agent_thought\": \"To complete the sign-in process, I need to fill in the email address field with the provided email.\", \"agent_action\": \"Type_Text\", \"human_feedback\": \"Agent action is correct. \", \"timestamp\": \"2024-06-23T19:01:30.281005\"}', metadata={'source': '/Users/wellzhang/Desktop/Mortal/memory/experiences.json', 'seq_num': 6}),\n",
      " Document(page_content='{\"context_summary\": {\"bbox_description\": \"\\\\nValid Bounding Boxes:\\\\n0 (<img/>): \\\\\"\\\\\"\\\\n1 (<button/>): \\\\\"Search for Jobs\\\\\"\\\\n2 (<input/>): \\\\\"\\\\\"\\\\n3 (<input/>): \\\\\"\\\\\"\\\\n4 (<div/>): \\\\\"Sign In\\\\\"\\\\n5 (<button/>): \\\\\"Create Account\\\\\"\\\\n6 (<button/>): \\\\\"Forgot your password?\\\\\"\", \"visual_summary\": \"The sign-in page for Zillow shows that the email address \\\\\"wellzhang1217@gmail.com\\\\\" has been entered into the email field (label 2). The password field (label 3) has also been filled. The \\\\\"Sign In\\\\\" button (label 4) is visible and ready to be clicked.\"}, \"image_id\": \"test_screenshots/screenshot_277.png\", \"agent_thought\": \"The next step is to click the \\\\\"Sign In\\\\\" button to complete the sign-in process.\", \"agent_action\": \"Click\", \"human_feedback\": \"Agent action is correct. \", \"timestamp\": \"2024-06-23T19:02:01.730715\"}', metadata={'source': '/Users/wellzhang/Desktop/Mortal/memory/experiences.json', 'seq_num': 7}),\n",
      " Document(page_content='{\"context_summary\": {\"bbox_description\": \"\\\\nValid Bounding Boxes:\\\\n0 (<img/>): \\\\\"\\\\\"\\\\n1 (<button/>): \\\\\"Search for Jobs\\\\\"\\\\n2 (<input/>): \\\\\"\\\\\"\\\\n3 (<input/>): \\\\\"\\\\\"\\\\n4 (<div/>): \\\\\"Sign In\\\\\"\\\\n5 (<button/>): \\\\\"Create Account\\\\\"\\\\n6 (<button/>): \\\\\"Forgot your password?\\\\\"\", \"visual_summary\": \"The screenshot shows a webpage from Zillow, featuring a sign-in form. The top left corner has the Zillow logo (element 0). The top right corner has a \\\\\"Search for Jobs\\\\\" button (element 1). The sign-in form includes an email address input box (element 2), a password input box (element 3), a \\\\\"Sign In\\\\\" button (element 4), a \\\\\"Create Account\\\\\" button (element 5), and a \\\\\"Forgot your password?\\\\\" link (element 6).\"}, \"image_id\": \"test_screenshots/screenshot_279.png\", \"agent_thought\": \"To proceed, clicking on the \\\\\"Search for Jobs\\\\\" button would be the next logical step to look for job opportunities.\", \"agent_action\": \"Click\", \"human_feedback\": \"Agent action needs improvement. Feedback to the current action: let\\'s sign in first\", \"timestamp\": \"2024-06-23T23:55:07.271503\"}', metadata={'source': '/Users/wellzhang/Desktop/Mortal/memory/experiences.json', 'seq_num': 8}),\n",
      " Document(page_content='{\"context_summary\": {\"bbox_description\": \"\\\\nValid Bounding Boxes:\\\\n0 (<img/>): \\\\\"\\\\\"\\\\n1 (<button/>): \\\\\"Search for Jobs\\\\\"\\\\n2 (<input/>): \\\\\"\\\\\"\\\\n3 (<input/>): \\\\\"\\\\\"\\\\n4 (<div/>): \\\\\"Sign In\\\\\"\\\\n5 (<button/>): \\\\\"Create Account\\\\\"\\\\n6 (<button/>): \\\\\"Forgot your password?\\\\\"\", \"visual_summary\": \"The user has provided their email address and password for signing in. The email address is `wellzhang1217@gmail.com` and the password is `123456789well`. We need to input these credentials into the respective input boxes.\"}, \"image_id\": \"test_screenshots/screenshot_281.png\", \"agent_thought\": \"The first step is to input the email address into the email address input box.\", \"agent_action\": \"Type_Text\", \"human_feedback\": \"Agent action is correct. \", \"timestamp\": \"2024-06-24T00:02:18.352173\"}', metadata={'source': '/Users/wellzhang/Desktop/Mortal/memory/experiences.json', 'seq_num': 9}),\n",
      " Document(page_content='{\"context_summary\": {\"bbox_description\": \"\\\\nValid Bounding Boxes:\\\\n0 (<img/>): \\\\\"\\\\\"\\\\n1 (<button/>): \\\\\"Search for Jobs\\\\\"\\\\n2 (<input/>): \\\\\"\\\\\"\\\\n3 (<input/>): \\\\\"\\\\\"\\\\n4 (<div/>): \\\\\"Sign In\\\\\"\\\\n5 (<button/>): \\\\\"Create Account\\\\\"\\\\n6 (<button/>): \\\\\"Forgot your password?\\\\\"\", \"visual_summary\": \"The email address input box (label 2) is now filled with `wellzhang1217@gmail.com`. The password input box (label 3) remains empty. The next step is to input the password.\"}, \"image_id\": \"test_screenshots/screenshot_282.png\", \"agent_thought\": \"The next action is to input the provided password into the password input box.\", \"agent_action\": \"Type_Text\", \"human_feedback\": \"Agent action is correct. \", \"timestamp\": \"2024-06-24T00:02:34.182202\"}', metadata={'source': '/Users/wellzhang/Desktop/Mortal/memory/experiences.json', 'seq_num': 10}),\n",
      " Document(page_content='{\"context_summary\": {\"bbox_description\": \"\\\\nValid Bounding Boxes:\\\\n0 (<img/>): \\\\\"\\\\\"\\\\n1 (<button/>): \\\\\"Search for Jobs\\\\\"\\\\n2 (<input/>): \\\\\"\\\\\"\\\\n3 (<input/>): \\\\\"\\\\\"\\\\n4 (<div/>): \\\\\"Sign In\\\\\"\\\\n5 (<button/>): \\\\\"Create Account\\\\\"\\\\n6 (<button/>): \\\\\"Forgot your password?\\\\\"\", \"visual_summary\": \"Both the email address and the password input boxes have been filled with the provided credentials. The next step is to click the \\\\\"Sign In\\\\\" button (label 4) to proceed with the login process.\"}, \"image_id\": \"test_screenshots/screenshot_283.png\", \"agent_thought\": \"The next action is to click the \\\\\"Sign In\\\\\" button to submit the login credentials.\", \"agent_action\": \"Click\", \"human_feedback\": \"Agent action is correct. \", \"timestamp\": \"2024-06-24T00:02:49.596792\"}', metadata={'source': '/Users/wellzhang/Desktop/Mortal/memory/experiences.json', 'seq_num': 11})]\n"
     ]
    }
   ],
   "source": [
    "from langchain_openai import OpenAIEmbeddings\n",
    "from langchain_community.document_loaders import JSONLoader\n",
    "from langchain_community.vectorstores import Chroma\n",
    "\n",
    "loader = JSONLoader(file_path=\"memory/experiences.json\", jq_schema=\".[].steps[]\", text_content=False)\n",
    "\n",
    "data = loader.load()\n",
    "\n",
    "pprint(data)"
   ]
  },
  {
   "cell_type": "code",
   "execution_count": 10,
   "metadata": {},
   "outputs": [
    {
     "name": "stdout",
     "output_type": "stream",
     "text": [
      "[Document(page_content='{\"context_summary\": {\"bbox_description\": \"\\\\nValid Bounding Boxes:\\\\n0 (<img/>): \\\\\"\\\\\"\\\\n1 (<button/>): \\\\\"Search for Jobs\\\\\"\\\\n2 (<input/>): \\\\\"\\\\\"\\\\n3 (<input/>): \\\\\"\\\\\"\\\\n4 (<div/>): \\\\\"Sign In\\\\\"\\\\n5 (<button/>): \\\\\"Create Account\\\\\"\\\\n6 (<button/>): \\\\\"Forgot your password?\\\\\"\", \"visual_summary\": \"Both the email address and the password input boxes have been filled with the provided credentials. The next step is to click the \\\\\"Sign In\\\\\" button (label 4) to proceed with the login process.\"}, \"image_id\": \"test_screenshots/screenshot_283.png\", \"agent_thought\": \"The next action is to click the \\\\\"Sign In\\\\\" button to submit the login credentials.\", \"agent_action\": \"Click\", \"human_feedback\": \"Agent action is correct. \", \"timestamp\": \"2024-06-24T00:02:49.596792\"}', metadata={'seq_num': 11, 'source': '/Users/wellzhang/Desktop/Mortal/memory/experiences.json'}),\n",
      " Document(page_content='{\"context_summary\": {\"bbox_description\": \"\\\\nValid Bounding Boxes:\\\\n0 (<img/>): \\\\\"\\\\\"\\\\n1 (<button/>): \\\\\"Search for Jobs\\\\\"\\\\n2 (<input/>): \\\\\"\\\\\"\\\\n3 (<input/>): \\\\\"\\\\\"\\\\n4 (<div/>): \\\\\"Sign In\\\\\"\\\\n5 (<button/>): \\\\\"Create Account\\\\\"\\\\n6 (<button/>): \\\\\"Forgot your password?\\\\\"\", \"visual_summary\": \"Both the email address and the password input boxes have been filled with the provided credentials. The next step is to click the \\\\\"Sign In\\\\\" button (label 4) to proceed with the login process.\"}, \"image_id\": \"test_screenshots/screenshot_283.png\", \"agent_thought\": \"The next action is to click the \\\\\"Sign In\\\\\" button to submit the login credentials.\", \"agent_action\": \"Click\", \"human_feedback\": \"Agent action is correct. \", \"timestamp\": \"2024-06-24T00:02:49.596792\"}', metadata={'seq_num': 11, 'source': '/Users/wellzhang/Desktop/Mortal/memory/experiences.json'}),\n",
      " Document(page_content='{\"context_summary\": {\"bbox_description\": \"\\\\nValid Bounding Boxes:\\\\n0 (<img/>): \\\\\"\\\\\"\\\\n1 (<button/>): \\\\\"Search for Jobs\\\\\"\\\\n2 (<input/>): \\\\\"\\\\\"\\\\n3 (<input/>): \\\\\"\\\\\"\\\\n4 (<div/>): \\\\\"Sign In\\\\\"\\\\n5 (<button/>): \\\\\"Create Account\\\\\"\\\\n6 (<button/>): \\\\\"Forgot your password?\\\\\"\", \"visual_summary\": \"Both the email address and the password input boxes have been filled with the provided credentials. The next step is to click the \\\\\"Sign In\\\\\" button (label 4) to proceed with the login process.\"}, \"image_id\": \"test_screenshots/screenshot_283.png\", \"agent_thought\": \"The next action is to click the \\\\\"Sign In\\\\\" button to submit the login credentials.\", \"agent_action\": \"Click\", \"human_feedback\": \"Agent action is correct. \", \"timestamp\": \"2024-06-24T00:02:49.596792\"}', metadata={'seq_num': 11, 'source': '/Users/wellzhang/Desktop/Mortal/memory/experiences.json'}),\n",
      " Document(page_content='{\"context_summary\": {\"bbox_description\": \"\\\\nValid Bounding Boxes:\\\\n0 (<img/>): \\\\\"\\\\\"\\\\n1 (<button/>): \\\\\"Search for Jobs\\\\\"\\\\n2 (<input/>): \\\\\"\\\\\"\\\\n3 (<input/>): \\\\\"\\\\\"\\\\n4 (<div/>): \\\\\"Sign In\\\\\"\\\\n5 (<button/>): \\\\\"Create Account\\\\\"\\\\n6 (<button/>): \\\\\"Forgot your password?\\\\\"\", \"visual_summary\": \"Both the email address and the password input boxes have been filled with the provided credentials. The next step is to click the \\\\\"Sign In\\\\\" button (label 4) to proceed with the login process.\"}, \"image_id\": \"test_screenshots/screenshot_283.png\", \"agent_thought\": \"The next action is to click the \\\\\"Sign In\\\\\" button to submit the login credentials.\", \"agent_action\": \"Click\", \"human_feedback\": \"Agent action is correct. \", \"timestamp\": \"2024-06-24T00:02:49.596792\"}', metadata={'seq_num': 11, 'source': '/Users/wellzhang/Desktop/Mortal/memory/experiences.json'}),\n",
      " Document(page_content='{\"context_summary\": {\"bbox_description\": \"\\\\nValid Bounding Boxes:\\\\n0 (<img/>): \\\\\"\\\\\"\\\\n1 (<button/>): \\\\\"Search for Jobs\\\\\"\\\\n2 (<input/>): \\\\\"\\\\\"\\\\n3 (<input/>): \\\\\"\\\\\"\\\\n4 (<div/>): \\\\\"Sign In\\\\\"\\\\n5 (<button/>): \\\\\"Create Account\\\\\"\\\\n6 (<button/>): \\\\\"Forgot your password?\\\\\"\", \"visual_summary\": \"The user has provided their email address and password for signing in. The email address is `wellzhang1217@gmail.com` and the password is `123456789well`. We need to input these credentials into the respective input boxes.\"}, \"image_id\": \"test_screenshots/screenshot_281.png\", \"agent_thought\": \"The first step is to input the email address into the email address input box.\", \"agent_action\": \"Type_Text\", \"human_feedback\": \"Agent action is correct. \", \"timestamp\": \"2024-06-24T00:02:18.352173\"}', metadata={'seq_num': 9, 'source': '/Users/wellzhang/Desktop/Mortal/memory/experiences.json'})]\n"
     ]
    }
   ],
   "source": [
    "import json\n",
    "from langchain_openai import OpenAIEmbeddings\n",
    "from langchain_community.document_loaders import JSONLoader\n",
    "from langchain_community.vectorstores import Chroma\n",
    "from retrieve_memory import retrieve_experience_memory\n",
    "\n",
    "# request = \"What is my visa type?\"\n",
    "# thought = \"To find the visa type, we need to look at the user's profile information.\"\n",
    "\n",
    "bbox = \"\"\"\n",
    "    Valid Bounding Boxes:\n",
    "0 (<img/>): \"\"\n",
    "1 (<button/>): \"Search for Jobs\"\n",
    "2 (<input/>): \"\"\n",
    "3 (<input/>): \"\"\n",
    "4 (<div/>): \"Sign In\"\n",
    "5 (<button/>): \"Create Account\"\n",
    "6 (<button/>): \"Forgot your password?\"\n",
    "\"\"\"\n",
    "\n",
    "# from current situation\n",
    "context_summary = {\n",
    "    \"bbox_description\": f\"{bbox}\",\n",
    "    \"visual_summary\": \"Both the email address and the password input boxes have been filled with the provided credentials. The next step is to click the 'Sign In' button (label 4) to proceed with the login process.\"\n",
    "}\n",
    "\n",
    "context = {\n",
    "    \"bbox_description\": f\"{bbox}\",\n",
    "    \"visual_summary\": \"Both the email address and the password input boxes have been filled with the provided credentials. The next step is to click the 'Sign In' button (label 4) to proceed with the login process.\",\n",
    "    \"agent_thought\": \"To sign in, we need to enter the email address and password into the respective fields and then click the 'Sign In' button.\",\n",
    "}\n",
    "\n",
    "context_summary = json.dumps(context_summary)\n",
    "\n",
    "embedding = OpenAIEmbeddings()\n",
    "\n",
    "db = Chroma.from_documents(data, embedding)\n",
    "# docs = db.similarity_search_with_relevance_scores(context_summary, k=3)\n",
    "docs = db.similarity_search(context_summary, k=5)\n",
    "\n",
    "\n",
    "\n",
    "pprint(docs)\n",
    "\n",
    "agent_thought = \"To sign in, we need to enter the email address and password into the respective fields and then click the 'Sign In' button.\"\n",
    "visual_summary = \"Both the email address and the password input boxes have been filled with the provided credentials. The next step is to click the 'Sign In' button (label 4) to proceed with the login process.\"\n",
    "\n",
    "\n",
    "# doc = retrieve_info_memory(request)\n",
    "# doc = retrieve_experience_memory(context_summary)\n",
    "# print(doc)"
   ]
  },
  {
   "cell_type": "code",
   "execution_count": 12,
   "metadata": {},
   "outputs": [
    {
     "name": "stdout",
     "output_type": "stream",
     "text": [
      "<class 'list'>\n",
      "[Document(page_content='{\"context_summary\": {\"bbox_description\": \"\\\\nValid Bounding Boxes:\\\\n0 (<img/>): \\\\\"\\\\\"\\\\n1 (<button/>): \\\\\"Search for Jobs\\\\\"\\\\n2 (<input/>): \\\\\"\\\\\"\\\\n3 (<input/>): \\\\\"\\\\\"\\\\n4 (<div/>): \\\\\"Sign In\\\\\"\\\\n5 (<button/>): \\\\\"Create Account\\\\\"\\\\n6 (<button/>): \\\\\"Forgot your password?\\\\\"\", \"visual_summary\": \"Both the email address and the password input boxes have been filled with the provided credentials. The next step is to click the \\\\\"Sign In\\\\\" button (label 4) to proceed with the login process.\"}, \"image_id\": \"test_screenshots/screenshot_283.png\", \"agent_thought\": \"The next action is to click the \\\\\"Sign In\\\\\" button to submit the login credentials.\", \"agent_action\": \"Click\", \"human_feedback\": \"Agent action is correct. \", \"timestamp\": \"2024-06-24T00:02:49.596792\"}', metadata={'seq_num': 11, 'source': '/Users/wellzhang/Desktop/Mortal/memory/experiences.json'}),\n",
      " Document(page_content='{\"context_summary\": {\"bbox_description\": \"\\\\nValid Bounding Boxes:\\\\n0 (<img/>): \\\\\"\\\\\"\\\\n1 (<button/>): \\\\\"Search for Jobs\\\\\"\\\\n2 (<input/>): \\\\\"\\\\\"\\\\n3 (<input/>): \\\\\"\\\\\"\\\\n4 (<div/>): \\\\\"Sign In\\\\\"\\\\n5 (<button/>): \\\\\"Create Account\\\\\"\\\\n6 (<button/>): \\\\\"Forgot your password?\\\\\"\", \"visual_summary\": \"Both the email address and the password input boxes have been filled with the provided credentials. The next step is to click the \\\\\"Sign In\\\\\" button (label 4) to proceed with the login process.\"}, \"image_id\": \"test_screenshots/screenshot_283.png\", \"agent_thought\": \"The next action is to click the \\\\\"Sign In\\\\\" button to submit the login credentials.\", \"agent_action\": \"Click\", \"human_feedback\": \"Agent action is correct. \", \"timestamp\": \"2024-06-24T00:02:49.596792\"}', metadata={'seq_num': 11, 'source': '/Users/wellzhang/Desktop/Mortal/memory/experiences.json'}),\n",
      " Document(page_content='{\"context_summary\": {\"bbox_description\": \"\\\\nValid Bounding Boxes:\\\\n0 (<img/>): \\\\\"\\\\\"\\\\n1 (<button/>): \\\\\"Search for Jobs\\\\\"\\\\n2 (<input/>): \\\\\"\\\\\"\\\\n3 (<input/>): \\\\\"\\\\\"\\\\n4 (<div/>): \\\\\"Sign In\\\\\"\\\\n5 (<button/>): \\\\\"Create Account\\\\\"\\\\n6 (<button/>): \\\\\"Forgot your password?\\\\\"\", \"visual_summary\": \"Both the email address and the password input boxes have been filled with the provided credentials. The next step is to click the \\\\\"Sign In\\\\\" button (label 4) to proceed with the login process.\"}, \"image_id\": \"test_screenshots/screenshot_283.png\", \"agent_thought\": \"The next action is to click the \\\\\"Sign In\\\\\" button to submit the login credentials.\", \"agent_action\": \"Click\", \"human_feedback\": \"Agent action is correct. \", \"timestamp\": \"2024-06-24T00:02:49.596792\"}', metadata={'seq_num': 11, 'source': '/Users/wellzhang/Desktop/Mortal/memory/experiences.json'}),\n",
      " Document(page_content='{\"context_summary\": {\"bbox_description\": \"\\\\nValid Bounding Boxes:\\\\n0 (<img/>): \\\\\"\\\\\"\\\\n1 (<button/>): \\\\\"Search for Jobs\\\\\"\\\\n2 (<input/>): \\\\\"\\\\\"\\\\n3 (<input/>): \\\\\"\\\\\"\\\\n4 (<div/>): \\\\\"Sign In\\\\\"\\\\n5 (<button/>): \\\\\"Create Account\\\\\"\\\\n6 (<button/>): \\\\\"Forgot your password?\\\\\"\", \"visual_summary\": \"Both the email address and the password input boxes have been filled with the provided credentials. The next step is to click the \\\\\"Sign In\\\\\" button (label 4) to proceed with the login process.\"}, \"image_id\": \"test_screenshots/screenshot_283.png\", \"agent_thought\": \"The next action is to click the \\\\\"Sign In\\\\\" button to submit the login credentials.\", \"agent_action\": \"Click\", \"human_feedback\": \"Agent action is correct. \", \"timestamp\": \"2024-06-24T00:02:49.596792\"}', metadata={'seq_num': 11, 'source': '/Users/wellzhang/Desktop/Mortal/memory/experiences.json'}),\n",
      " Document(page_content='{\"context_summary\": {\"bbox_description\": \"\\\\nValid Bounding Boxes:\\\\n0 (<img/>): \\\\\"\\\\\"\\\\n1 (<button/>): \\\\\"Search for Jobs\\\\\"\\\\n2 (<input/>): \\\\\"\\\\\"\\\\n3 (<input/>): \\\\\"\\\\\"\\\\n4 (<div/>): \\\\\"Sign In\\\\\"\\\\n5 (<button/>): \\\\\"Create Account\\\\\"\\\\n6 (<button/>): \\\\\"Forgot your password?\\\\\"\", \"visual_summary\": \"Both the email address and the password input boxes have been filled with the provided credentials. The next step is to click the \\\\\"Sign In\\\\\" button (label 4) to proceed with the login process.\"}, \"image_id\": \"test_screenshots/screenshot_283.png\", \"agent_thought\": \"The next action is to click the \\\\\"Sign In\\\\\" button to submit the login credentials.\", \"agent_action\": \"Click\", \"human_feedback\": \"Agent action is correct. \", \"timestamp\": \"2024-06-24T00:02:49.596792\"}', metadata={'seq_num': 11, 'source': '/Users/wellzhang/Desktop/Mortal/memory/experiences.json'})]\n",
      "<class 'langchain_core.documents.base.Document'>\n"
     ]
    }
   ],
   "source": [
    "docs = retrieve_experience_memory(bbox, visual_summary, agent_thought)\n",
    "\n",
    "pprint(docs)\n",
    "print(type(docs[0]))"
   ]
  }
 ],
 "metadata": {
  "kernelspec": {
   "display_name": "mortal",
   "language": "python",
   "name": "python3"
  },
  "language_info": {
   "codemirror_mode": {
    "name": "ipython",
    "version": 3
   },
   "file_extension": ".py",
   "mimetype": "text/x-python",
   "name": "python",
   "nbconvert_exporter": "python",
   "pygments_lexer": "ipython3",
   "version": "3.9.13"
  }
 },
 "nbformat": 4,
 "nbformat_minor": 2
}
